{
 "cells": [
  {
   "cell_type": "code",
   "execution_count": 1,
   "metadata": {},
   "outputs": [],
   "source": [
    "import ee\n",
    "ee.Initialize()\n",
    "import folium\n",
    "import geehydro\n"
   ]
  },
  {
   "cell_type": "code",
   "execution_count": 2,
   "metadata": {},
   "outputs": [],
   "source": [
    "def gapFillAndExtendBounds(multiBandImage,bandList,distanceToFillInMeters,categorical):\n",
    "    \n",
    "    # N.B., This script is based on code from Matt Hancher and includes annotations\n",
    "    # from his original example code.\n",
    "    # Use a helper function to fill holes and boundaries with the nearest value\n",
    "    def fillHolesWithNearestValue(imageToFill):\n",
    "        source = imageToFill.mask();\n",
    "        # Measure 1000000x the distance to the nearest valid pixel. We pick\n",
    "        # a large cost (here 1000000) so that the least-cost path will not be\n",
    "        # influenced later by the border pixels.\n",
    "        cost0 = ee.Image(1000000).where(source, 0).cumulativeCost(source, distanceToFillInMeters);\n",
    "        \n",
    "        # Measure the distance to the nearest pixel plus the half-pixel\n",
    "        # traversal to the center of a valid border pixel, which may be\n",
    "        # 1/2 or 1/sqrt(2).\n",
    "        cost1 = ee.Image(1000000).where(source, 1).cumulativeCost(source, distanceToFillInMeters);\n",
    "        \n",
    "        # Measure the distance to the nearest pixel plus the half-pixel\n",
    "        # traversal to center of a valid pixel, where the valid pixel\n",
    "        # has a cost equal to its original value.\n",
    "        cost2 = imageToFill.unmask(1000000).cumulativeCost(source, distanceToFillInMeters);\n",
    "        \n",
    "        # Finally we can compute the original value of the neares\n",
    "        # unmasked pixel.\n",
    "        fill = cost2.subtract(cost0).divide(cost1.subtract(cost0));\n",
    "        \n",
    "        # Fill in the masked pixels.\n",
    "        filled = imageToFill.unmask(0).add(fill);\n",
    "        \n",
    "        return filled.copyProperties(imageToFill);\n",
    "        \n",
    "    # Use a helper function to convert an image collection to a multiband image\n",
    "    def icToImage(imageCollection):\n",
    "        \n",
    "        # Create an empty image to fill\n",
    "        emptyImage = ee.Image(0).rename('BAND_TO_REMOVE');\n",
    "        \n",
    "        # Iterate through the collection to make the new multiband image\n",
    "        def functionToIterate(image, result):\n",
    "            return ee.Image(result).addBands(image)\n",
    "        multibandImageToSub = ee.Image(imageCollection.iterate(functionToIterate, emptyImage));\n",
    "        multibandImageSelected = multibandImageToSub.select(multibandImageToSub.bandNames().remove('BAND_TO_REMOVE'))\n",
    "        \n",
    "        return multibandImageSelected;\n",
    "        \n",
    "    # Turn the multiband image of interest into an image collection\n",
    "    imageCollection = ee.ImageCollection(multiBandImage.bandNames().map(lambda bandName: multiBandImage.select([bandName]).set('imageName',bandName)));\n",
    "    # print('Image Collection from Composite',imageCollection);\n",
    "    \n",
    "    # Separate out the images that shouldn't be filled\n",
    "    imagesNotToFill = imageCollection.filter(ee.Filter.inList('imageName',bandList).Not());\n",
    "    # print('Images not to Fill',imagesNotToFill);\n",
    "    \n",
    "    imagesNotFilled = icToImage(imagesNotToFill);\n",
    "    # print('Images not Filled',imagesNotFilled);\n",
    "    \n",
    "    imagesToFill = imageCollection.filter(ee.Filter.inList('imageName',bandList));\n",
    "    # print('Images to Fill',imagesToFill);\n",
    "    \n",
    "    imagesFilled = imagesToFill.map(fillHolesWithNearestValue);\n",
    "    # print('Gap Filled Images',imagesFilled);\n",
    "    \n",
    "    multiBandImageFilled = icToImage(imagesFilled);\n",
    "    # print('Multiband image filled',multiBandImageFilled);\n",
    "    \n",
    "    stackedCompositeFilled = ee.Image.cat(multiBandImageFilled,imagesNotFilled);\n",
    "    # print('Filled Composite',stackedCompositeFilled);\n",
    "\n",
    "    # Return a rounded version of the image if it is categorical\n",
    "    if categorical == True:\n",
    "        # If it's a categorical data type, round the image to the nearest integer\n",
    "        imageToReturn = stackedCompositeFilled.round()\n",
    "    else:\n",
    "        # If it's continuous, don't round the value\n",
    "        imageToReturn = stackedCompositeFilled\n",
    "        \n",
    "    return imageToReturn;"
   ]
  },
  {
   "cell_type": "code",
   "execution_count": 3,
   "metadata": {},
   "outputs": [],
   "source": [
    "# Load the example WWF Biome Image\n",
    "exampleImage = ee.Image(\"users/devinrouth/DELETEME_GapFilling_Sampling_Practice_Image\");\n"
   ]
  },
  {
   "cell_type": "code",
   "execution_count": 4,
   "metadata": {},
   "outputs": [],
   "source": [
    "# Define the list of bands to fill / extend\n",
    "listOfBandsToFill = ['WWF_Biome'];\n",
    "filledImage = gapFillAndExtendBounds(exampleImage,listOfBandsToFill,10000,True);\n"
   ]
  },
  {
   "cell_type": "code",
   "execution_count": 5,
   "metadata": {},
   "outputs": [
    {
     "name": "stdout",
     "output_type": "stream",
     "text": [
      "{'type': 'Image', 'bands': [{'id': 'WWF_Biome', 'data_type': {'type': 'PixelType', 'precision': 'double'}, 'dimensions': [317, 166], 'crs': 'EPSG:4326', 'crs_transform': [0.008333333333333333, 0, 4.383333333333326, 0, -0.008333333333333333, 59.91666666666667]}]}\n"
     ]
    }
   ],
   "source": [
    "# See how the object prints\n",
    "print(filledImage.getInfo())\n"
   ]
  },
  {
   "cell_type": "code",
   "execution_count": 6,
   "metadata": {},
   "outputs": [
    {
     "data": {
      "text/html": [
       "<div style=\"width:100%;\"><div style=\"position:relative;width:100%;height:0;padding-bottom:60%;\"><iframe src=\"data:text/html;charset=utf-8;base64,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\" style=\"position:absolute;width:100%;height:100%;left:0;top:0;border:none !important;\" allowfullscreen webkitallowfullscreen mozallowfullscreen></iframe></div></div>"
      ],
      "text/plain": [
       "<folium.folium.Map at 0x11ca68f50>"
      ]
     },
     "execution_count": 6,
     "metadata": {},
     "output_type": "execute_result"
    }
   ],
   "source": [
    "# View it on a map\n",
    "Map = folium.Map(location=[59.2194809093723,5.8477799483598725], zoom_start=7)\n",
    "Map.setOptions('HYBRID')\n",
    "# Map.addLayer(exampleImage.randomVisualizer())\n",
    "Map.addLayer(filledImage.randomVisualizer())\n",
    "Map\n"
   ]
  },
  {
   "cell_type": "code",
   "execution_count": 7,
   "metadata": {},
   "outputs": [],
   "source": [
    "# Input the exporting parameters\n",
    "geoForExport = ee.Geometry.Polygon(\n",
    "        [[[4.38351392495405, 59.91633906274373],\n",
    "          [4.38351392495405, 58.53944442726217],\n",
    "          [7.02023267495405, 58.53944442726217],\n",
    "          [7.02023267495405, 59.91633906274373]]], None, False);\n",
    "pyramidingPolicy = \"mode\"\n",
    "description = 'DELETEME_GapFilling_Python_Test'\n"
   ]
  },
  {
   "cell_type": "code",
   "execution_count": 8,
   "metadata": {},
   "outputs": [],
   "source": [
    "# Define the export\n",
    "bootstrapImageExport = ee.batch.Export.image.toAsset(\n",
    "    image=filledImage,\n",
    "    description=description,\n",
    "    assetId='users/devinrouth/'+description,\n",
    "    crs='EPSG:4326',\n",
    "    crsTransform='[0.008333333333333333,0,-180,0,-0.008333333333333333,90]',\n",
    "    region=geoForExport.getInfo()['coordinates'],\n",
    "    maxPixels=int(1e13),\n",
    "    pyramidingPolicy={\".default\": pyramidingPolicy}\n",
    ");\n"
   ]
  },
  {
   "cell_type": "code",
   "execution_count": 9,
   "metadata": {},
   "outputs": [],
   "source": [
    "# Start the export\n",
    "bootstrapImageExport.start()\n"
   ]
  }
 ],
 "metadata": {
  "kernelspec": {
   "display_name": "Python 3",
   "language": "python",
   "name": "python3"
  },
  "language_info": {
   "codemirror_mode": {
    "name": "ipython",
    "version": 3
   },
   "file_extension": ".py",
   "mimetype": "text/x-python",
   "name": "python",
   "nbconvert_exporter": "python",
   "pygments_lexer": "ipython3",
   "version": "3.7.4"
  }
 },
 "nbformat": 4,
 "nbformat_minor": 4
}

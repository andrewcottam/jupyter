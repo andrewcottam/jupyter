{
 "cells": [
  {
   "cell_type": "code",
   "execution_count": 1,
   "metadata": {},
   "outputs": [],
   "source": [
    "# Import the necessary modules for the protocol\n",
    "import ee as ee\n",
    "ee.Initialize()\n",
    "import pandas as pd\n",
    "from scipy.spatial import ConvexHull\n",
    "from sklearn.decomposition import PCA\n",
    "import numpy as np\n",
    "from itertools import combinations"
   ]
  },
  {
   "cell_type": "code",
   "execution_count": 2,
   "metadata": {
    "jupyter": {
     "source_hidden": true
    }
   },
   "outputs": [],
   "source": [
    "def assessExtrapolation(importedData, compositeImage, propOfVariance):\n",
    "    \n",
    "    # Excise the columns of interest from the data frame\n",
    "    variablesOfInterest = importedData.drop(['system:index', '.geo'], axis=1)\n",
    "    \n",
    "    # Compute the mean and standard deviation of each band, then standardize the point data\n",
    "    meanVector = variablesOfInterest.mean()\n",
    "    stdVector = variablesOfInterest.std()\n",
    "    standardizedData = (variablesOfInterest-meanVector)/stdVector\n",
    "    \n",
    "    # Then standardize the composite from which the points were sampled\n",
    "    meanList = meanVector.tolist()\n",
    "    stdList = stdVector.tolist()\n",
    "    bandNames = list(meanVector.index)\n",
    "    meanImage = ee.Image(meanList).rename(bandNames)\n",
    "    stdImage = ee.Image(stdList).rename(bandNames)\n",
    "    standardizedImage = compositeImage.subtract(meanImage).divide(stdImage)\n",
    "    \n",
    "    # Run a PCA on the point samples\n",
    "    pcaOutput = PCA()\n",
    "    pcaOutput.fit(standardizedData)\n",
    "    \n",
    "    # Save the cumulative variance represented by each PC\n",
    "    cumulativeVariance = np.cumsum(np.round(pcaOutput.explained_variance_ratio_, decimals=4)*100)\n",
    "    \n",
    "    # Make a list of PC names for future organizational purposes\n",
    "    pcNames = ['PC'+str(x) for x in range(1,variablesOfInterest.shape[1]+1)]\n",
    "    \n",
    "    # Get the PC loadings as a data frame\n",
    "    loadingsDF = pd.DataFrame(pcaOutput.components_,columns=[str(x)+'_Loads' for x in bandNames],index=pcNames)\n",
    "    \n",
    "    # Get the original data transformed into PC space\n",
    "    transformedData = pd.DataFrame(pcaOutput.fit_transform(standardizedData,standardizedData),columns=pcNames)\n",
    "    \n",
    "    # Make principal components images, multiplying the standardized image by each of the eigenvectors\n",
    "    # Collect each one of the images in a single image collection;\n",
    "    \n",
    "    # First step: make an image collection wherein each image is a PC loadings image\n",
    "    listOfLoadings = ee.List(loadingsDF.values.tolist());\n",
    "    eePCNames = ee.List(pcNames)\n",
    "    zippedList = eePCNames.zip(listOfLoadings)\n",
    "    def makeLoadingsImage(zippedValue):\n",
    "        return ee.Image.constant(ee.List(zippedValue).get(1)).rename(bandNames).set('PC',ee.List(zippedValue).get(0))\n",
    "    loadingsImageCollection = ee.ImageCollection(zippedList.map(makeLoadingsImage))\n",
    "    \n",
    "    # Second step: multiply each of the loadings image by the standardized image and reduce it using a \"sum\"\n",
    "    # to finalize the matrix multiplication\n",
    "    def finalizePCImages(loadingsImage):\n",
    "        return ee.Image(loadingsImage).multiply(standardizedImage).reduce('sum').rename([ee.String(ee.Image(loadingsImage).get('PC'))]).set('PC',ee.String(ee.Image(loadingsImage).get('PC')))\n",
    "    principalComponentsImages = loadingsImageCollection.map(finalizePCImages)\n",
    "    \n",
    "    # Choose how many principal components are of interest in this analysis based on amount of\n",
    "    # variance explained\n",
    "    numberOfComponents = sum(i < propOfVariance for i in cumulativeVariance)+1\n",
    "    print('Number of Principal Components being used:',numberOfComponents)\n",
    "    \n",
    "    # Compute the combinations of the principal components being used to compute the 2-D convex hulls\n",
    "    tupleCombinations = list(combinations(list(pcNames[0:numberOfComponents]),2))\n",
    "    print('Number of Combinations being used:',len(tupleCombinations))\n",
    "    \n",
    "    # Generate convex hulls for an example of the principal components of interest\n",
    "    cHullCoordsList = list()\n",
    "    for c in tupleCombinations:\n",
    "        firstPC = c[0]\n",
    "        secondPC = c[1]\n",
    "        outputCHull = ConvexHull(transformedData[[firstPC,secondPC]])\n",
    "        listOfCoordinates = transformedData.loc[outputCHull.vertices][[firstPC,secondPC]].values.tolist()\n",
    "        flattenedList = [val for sublist in listOfCoordinates for val in sublist]\n",
    "        cHullCoordsList.append(flattenedList)\n",
    "    \n",
    "    # Reformat the image collection to an image with band names that can be selected programmatically\n",
    "    pcImage = principalComponentsImages.toBands().rename(pcNames)\n",
    "    \n",
    "    # Generate an image collection with each PC selected with it's matching PC\n",
    "    listOfPCs = ee.List(tupleCombinations)\n",
    "    listOfCHullCoords = ee.List(cHullCoordsList)\n",
    "    zippedListPCsAndCHulls = listOfPCs.zip(listOfCHullCoords)\n",
    "    \n",
    "    def makeToClassifyImages(zippedListPCsAndCHulls):\n",
    "        imageToClassify = pcImage.select(ee.List(zippedListPCsAndCHulls).get(0)).set('CHullCoords',ee.List(zippedListPCsAndCHulls).get(1))\n",
    "        classifiedImage = imageToClassify.rename('u','v').classify(ee.Classifier.spectralRegion([imageToClassify.get('CHullCoords')]))\n",
    "        return classifiedImage\n",
    "    classifedImages = ee.ImageCollection(zippedListPCsAndCHulls.map(makeToClassifyImages))\n",
    "    finalImageToExport = classifedImages.sum().divide(ee.Image.constant(len(tupleCombinations)))\n",
    "    \n",
    "    return finalImageToExport\n",
    "\n"
   ]
  },
  {
   "cell_type": "code",
   "execution_count": 3,
   "metadata": {},
   "outputs": [
    {
     "name": "stdout",
     "output_type": "stream",
     "text": [
      "Composite Bands ['Aridity_RichnessScaled', 'CECSOL_RichnessCutScaled', 'CHELSA_bio10_15_RichnessCutScaled', 'CHELSA_bio10_7_RichnessCutScaled', 'CLYPPT_RichnessCutScaled', 'ORCDRC_RichnessCutScaled', 'PETyr_RichnessScaled', 'PHIHOX_RichnessCutScaled', 'SLTPPT_RichnessCutScaled', 'Snow_newValues_WGS84', 'elevation_RichnessScaled']\n",
      "<class 'pandas.core.frame.DataFrame'>\n",
      "RangeIndex: 6187 entries, 0 to 6186\n",
      "Data columns (total 13 columns):\n",
      "system:index                         6187 non-null object\n",
      "Aridity_RichnessScaled               6187 non-null float64\n",
      "CECSOL_RichnessCutScaled             6187 non-null float64\n",
      "CHELSA_bio10_15_RichnessCutScaled    6187 non-null float64\n",
      "CHELSA_bio10_7_RichnessCutScaled     6187 non-null float64\n",
      "CLYPPT_RichnessCutScaled             6187 non-null float64\n",
      "ORCDRC_RichnessCutScaled             6187 non-null float64\n",
      "PETyr_RichnessScaled                 6187 non-null float64\n",
      "PHIHOX_RichnessCutScaled             6187 non-null float64\n",
      "SLTPPT_RichnessCutScaled             6187 non-null float64\n",
      "Snow_newValues_WGS84                 6187 non-null float64\n",
      "elevation_RichnessScaled             6187 non-null float64\n",
      ".geo                                 0 non-null float64\n",
      "dtypes: float64(12), object(1)\n",
      "memory usage: 628.5+ KB\n",
      "None\n",
      "\n",
      "\n",
      "\n",
      "\n",
      "\n",
      "\n",
      "\n",
      "\n",
      "Bands being used ['Aridity_RichnessScaled', 'CECSOL_RichnessCutScaled', 'CHELSA_bio10_15_RichnessCutScaled', 'CHELSA_bio10_7_RichnessCutScaled', 'CLYPPT_RichnessCutScaled', 'ORCDRC_RichnessCutScaled', 'PETyr_RichnessScaled', 'PHIHOX_RichnessCutScaled', 'SLTPPT_RichnessCutScaled', 'Snow_newValues_WGS84', 'elevation_RichnessScaled']\n"
     ]
    }
   ],
   "source": [
    "# Instantiate the composite that was used to sample the points\n",
    "compositeImage_Richness = ee.Image(\"users/devinrouth/Earthworm_PCA_IntExt_2020/earthworm_richness_comp_masked\")\n",
    "bandNames = [\n",
    "  \"Aridity_RichnessScaled\",\n",
    "  \"CECSOL_RichnessCutScaled\",\n",
    "  \"CHELSA_bio10_15_RichnessCutScaled\",\n",
    "  \"CHELSA_bio10_7_RichnessCutScaled\",\n",
    "  \"CLYPPT_RichnessCutScaled\",\n",
    "  \"ORCDRC_RichnessCutScaled\",\n",
    "  \"PETyr_RichnessScaled\",\n",
    "  \"PHIHOX_RichnessCutScaled\",\n",
    "  \"SLTPPT_RichnessCutScaled\",\n",
    "  \"Snow_newValues_WGS84\",\n",
    "  \"elevation_RichnessScaled\"\n",
    "]\n",
    "print('Composite Bands',bandNames)\n",
    "\n",
    "# Import the data and view a summary of it\n",
    "importedData_Richness = pd.read_csv('20200115_Earthworm_RichnessPointsSampled.csv');\n",
    "print(importedData_Richness.info())\n",
    "# print(importedData_Richness.describe())\n",
    "\n",
    "print('\\n')\n",
    "print('\\n')\n",
    "print('\\n')\n",
    "print('\\n')\n",
    "\n",
    "cleanedImage_Richness = compositeImage_Richness.select(bandNames)\n",
    "print('Bands being used',cleanedImage_Richness.bandNames().getInfo())\n",
    "\n",
    "# Input the proportion of variance that you would like to cover when running the script\n",
    "propOfVariance = 90"
   ]
  },
  {
   "cell_type": "code",
   "execution_count": 4,
   "metadata": {},
   "outputs": [
    {
     "name": "stdout",
     "output_type": "stream",
     "text": [
      "Number of Principal Components being used: 7\n",
      "Number of Combinations being used: 21\n"
     ]
    }
   ],
   "source": [
    "# Apply the function\n",
    "finalImageToExport_Richness = assessExtrapolation(importedData_Richness, cleanedImage_Richness, propOfVariance)"
   ]
  },
  {
   "cell_type": "code",
   "execution_count": 5,
   "metadata": {},
   "outputs": [],
   "source": [
    "# Export the image to test it\n",
    "unboundedGeo = ee.Geometry.Polygon([-180, 88, 0, 88, 180, 88, 180, -88, 0, -88, -180, -88], None, False);\n",
    "task = ee.batch.Export.image.toAsset(\n",
    "    image = finalImageToExport_Richness,\n",
    "    description = 'Earthworm_Richness_PCA_CHull_IntExt',\n",
    "    assetId = 'users/devinrouth/Earthworm_PCA_IntExt_2020/Earthworm_Richness_PCA_CHull_IntExt_20200115',\n",
    "    region = unboundedGeo.getInfo()['coordinates'],\n",
    "    maxPixels = 1e13,\n",
    "    crs = 'EPSG:4326',\n",
    "    crsTransform = '[0.008333333333333333,0,-180,0,-0.008333333333333333,90]'\n",
    ")\n",
    "\n",
    "task.start()"
   ]
  },
  {
   "cell_type": "code",
   "execution_count": 6,
   "metadata": {},
   "outputs": [
    {
     "name": "stdout",
     "output_type": "stream",
     "text": [
      "Composite Bands ['Aridity_AbundanceScaled', 'CECSOL_AbundanceCutScaled', 'CHELSA_bio10_15_AbundanceCutScaled', 'CHELSA_bio10_7_AbundanceCutScaled', 'CLYPPT_AbundanceCutScaled', 'ORCDRC_AbundanceCutScaled', 'PETyr_AbundanceScaled', 'PHIHOX_AbundanceCutScaled', 'SLTPPT_AbundanceCutScaled', 'Snow_newValues_WGS84', 'elevation_AbundanceScaled']\n",
      "<class 'pandas.core.frame.DataFrame'>\n",
      "RangeIndex: 7628 entries, 0 to 7627\n",
      "Data columns (total 13 columns):\n",
      "system:index                          7628 non-null object\n",
      "Aridity_AbundanceScaled               7628 non-null float64\n",
      "CECSOL_AbundanceCutScaled             7628 non-null float64\n",
      "CHELSA_bio10_15_AbundanceCutScaled    7628 non-null float64\n",
      "CHELSA_bio10_7_AbundanceCutScaled     7628 non-null float64\n",
      "CLYPPT_AbundanceCutScaled             7628 non-null float64\n",
      "ORCDRC_AbundanceCutScaled             7628 non-null float64\n",
      "PETyr_AbundanceScaled                 7628 non-null float64\n",
      "PHIHOX_AbundanceCutScaled             7628 non-null float64\n",
      "SLTPPT_AbundanceCutScaled             7628 non-null float64\n",
      "Snow_newValues_WGS84                  7628 non-null float64\n",
      "elevation_AbundanceScaled             7628 non-null float64\n",
      ".geo                                  0 non-null float64\n",
      "dtypes: float64(12), object(1)\n",
      "memory usage: 774.8+ KB\n",
      "None\n",
      "\n",
      "\n",
      "\n",
      "\n",
      "\n",
      "\n",
      "\n",
      "\n",
      "Bands being used ['Aridity_AbundanceScaled', 'CECSOL_AbundanceCutScaled', 'CHELSA_bio10_15_AbundanceCutScaled', 'CHELSA_bio10_7_AbundanceCutScaled', 'CLYPPT_AbundanceCutScaled', 'ORCDRC_AbundanceCutScaled', 'PETyr_AbundanceScaled', 'PHIHOX_AbundanceCutScaled', 'SLTPPT_AbundanceCutScaled', 'Snow_newValues_WGS84', 'elevation_AbundanceScaled']\n"
     ]
    }
   ],
   "source": [
    "# Instantiate the composite that was used to sample the points\n",
    "compositeImage_Abundance = ee.Image(\"users/devinrouth/Earthworm_PCA_IntExt_2020/earthworm_abundance_comp_masked\")\n",
    "bandNames = [\n",
    "  \"Aridity_AbundanceScaled\",\n",
    "  \"CECSOL_AbundanceCutScaled\",\n",
    "  \"CHELSA_bio10_15_AbundanceCutScaled\",\n",
    "  \"CHELSA_bio10_7_AbundanceCutScaled\",\n",
    "  \"CLYPPT_AbundanceCutScaled\",\n",
    "  \"ORCDRC_AbundanceCutScaled\",\n",
    "  \"PETyr_AbundanceScaled\",\n",
    "  \"PHIHOX_AbundanceCutScaled\",\n",
    "  \"SLTPPT_AbundanceCutScaled\",\n",
    "  \"Snow_newValues_WGS84\",\n",
    "  \"elevation_AbundanceScaled\"\n",
    "]\n",
    "print('Composite Bands',bandNames)\n",
    "\n",
    "# Import the data and view a summary of it\n",
    "importedData_Abundance = pd.read_csv('20200115_Earthworm_AbundancePointsSampled.csv');\n",
    "print(importedData_Abundance.info())\n",
    "# print(importedData_Abundance.describe())\n",
    "\n",
    "print('\\n')\n",
    "print('\\n')\n",
    "print('\\n')\n",
    "print('\\n')\n",
    "\n",
    "cleanedImage_Abundance = compositeImage_Abundance.select(bandNames)\n",
    "print('Bands being used',cleanedImage_Abundance.bandNames().getInfo())\n",
    "\n",
    "# Input the proportion of variance that you would like to cover when running the script\n",
    "propOfVariance = 90"
   ]
  },
  {
   "cell_type": "code",
   "execution_count": 7,
   "metadata": {},
   "outputs": [
    {
     "name": "stdout",
     "output_type": "stream",
     "text": [
      "Number of Principal Components being used: 7\n",
      "Number of Combinations being used: 21\n"
     ]
    }
   ],
   "source": [
    "# Apply the function\n",
    "finalImageToExport_Abundance = assessExtrapolation(importedData_Abundance, cleanedImage_Abundance, propOfVariance)"
   ]
  },
  {
   "cell_type": "code",
   "execution_count": 8,
   "metadata": {},
   "outputs": [],
   "source": [
    "# Export the image to test it\n",
    "unboundedGeo = ee.Geometry.Polygon([-180, 88, 0, 88, 180, 88, 180, -88, 0, -88, -180, -88], None, False);\n",
    "task = ee.batch.Export.image.toAsset(\n",
    "    image = finalImageToExport_Abundance,\n",
    "    description = 'Earthworm_Abundance_PCA_CHull_IntExt',\n",
    "    assetId = 'users/devinrouth/Earthworm_PCA_IntExt_2020/Earthworm_Abundance_PCA_CHull_IntExt_20200115',\n",
    "    region = unboundedGeo.getInfo()['coordinates'],\n",
    "    maxPixels = 1e13,\n",
    "    crs = 'EPSG:4326',\n",
    "    crsTransform = '[0.008333333333333333,0,-180,0,-0.008333333333333333,90]'\n",
    ")\n",
    "\n",
    "task.start()"
   ]
  },
  {
   "cell_type": "code",
   "execution_count": 9,
   "metadata": {},
   "outputs": [
    {
     "name": "stdout",
     "output_type": "stream",
     "text": [
      "Composite Bands ['CECSOL_BiomassCutScaled', 'CHELSA_bio10_12_BiomassCutScaled', 'CHELSA_bio10_15_BiomassCutScaled', 'CHELSA_bio10_7_BiomassCutScaled', 'CLYPPT_BiomassCutScaled', 'ORCDRC_BiomassCutScaled', 'PETyr_BiomassScaled', 'PHIHOX_BiomassCutScaled', 'SLTPPT_BiomassCutScaled', 'Snow_newValues_WGS84', 'elevation_BiomassScaled']\n",
      "<class 'pandas.core.frame.DataFrame'>\n",
      "RangeIndex: 3650 entries, 0 to 3649\n",
      "Data columns (total 13 columns):\n",
      "system:index                        3650 non-null object\n",
      "CECSOL_BiomassCutScaled             3650 non-null float64\n",
      "CHELSA_bio10_12_BiomassCutScaled    3650 non-null float64\n",
      "CHELSA_bio10_15_BiomassCutScaled    3650 non-null float64\n",
      "CHELSA_bio10_7_BiomassCutScaled     3650 non-null float64\n",
      "CLYPPT_BiomassCutScaled             3650 non-null float64\n",
      "ORCDRC_BiomassCutScaled             3650 non-null float64\n",
      "PETyr_BiomassScaled                 3650 non-null float64\n",
      "PHIHOX_BiomassCutScaled             3650 non-null float64\n",
      "SLTPPT_BiomassCutScaled             3650 non-null float64\n",
      "Snow_newValues_WGS84                3650 non-null float64\n",
      "elevation_BiomassScaled             3650 non-null float64\n",
      ".geo                                0 non-null float64\n",
      "dtypes: float64(12), object(1)\n",
      "memory usage: 370.8+ KB\n",
      "None\n",
      "\n",
      "\n",
      "\n",
      "\n",
      "\n",
      "\n",
      "\n",
      "\n",
      "Bands being used ['CECSOL_BiomassCutScaled', 'CHELSA_bio10_12_BiomassCutScaled', 'CHELSA_bio10_15_BiomassCutScaled', 'CHELSA_bio10_7_BiomassCutScaled', 'CLYPPT_BiomassCutScaled', 'ORCDRC_BiomassCutScaled', 'PETyr_BiomassScaled', 'PHIHOX_BiomassCutScaled', 'SLTPPT_BiomassCutScaled', 'Snow_newValues_WGS84', 'elevation_BiomassScaled']\n"
     ]
    }
   ],
   "source": [
    "# Instantiate the composite that was used to sample the points\n",
    "compositeImage_Biomass = ee.Image(\"users/devinrouth/Earthworm_PCA_IntExt_2020/earthworm_biomass_comp_masked\")\n",
    "bandNames = [\n",
    "  \"CECSOL_BiomassCutScaled\",\n",
    "  \"CHELSA_bio10_12_BiomassCutScaled\",\n",
    "  \"CHELSA_bio10_15_BiomassCutScaled\",\n",
    "  \"CHELSA_bio10_7_BiomassCutScaled\",\n",
    "  \"CLYPPT_BiomassCutScaled\",\n",
    "  \"ORCDRC_BiomassCutScaled\",\n",
    "  \"PETyr_BiomassScaled\",\n",
    "  \"PHIHOX_BiomassCutScaled\",\n",
    "  \"SLTPPT_BiomassCutScaled\",\n",
    "  \"Snow_newValues_WGS84\",\n",
    "  \"elevation_BiomassScaled\"\n",
    "]\n",
    "print('Composite Bands',bandNames)\n",
    "\n",
    "# Import the data and view a summary of it\n",
    "importedData_Biomass = pd.read_csv('20200115_Earthworm_BiomassPointsSampled.csv');\n",
    "print(importedData_Biomass.info())\n",
    "# print(importedData_Biomass.describe())\n",
    "\n",
    "print('\\n')\n",
    "print('\\n')\n",
    "print('\\n')\n",
    "print('\\n')\n",
    "\n",
    "cleanedImage_Biomass = compositeImage_Biomass.select(bandNames)\n",
    "print('Bands being used',cleanedImage_Biomass.bandNames().getInfo())\n",
    "\n",
    "# Input the proportion of variance that you would like to cover when running the script\n",
    "propOfVariance = 90"
   ]
  },
  {
   "cell_type": "code",
   "execution_count": 10,
   "metadata": {},
   "outputs": [
    {
     "name": "stdout",
     "output_type": "stream",
     "text": [
      "Number of Principal Components being used: 7\n",
      "Number of Combinations being used: 21\n"
     ]
    }
   ],
   "source": [
    "# Apply the function\n",
    "finalImageToExport_Biomass = assessExtrapolation(importedData_Biomass, cleanedImage_Biomass, propOfVariance)"
   ]
  },
  {
   "cell_type": "code",
   "execution_count": 11,
   "metadata": {},
   "outputs": [],
   "source": [
    "# Export the image to test it\n",
    "unboundedGeo = ee.Geometry.Polygon([-180, 88, 0, 88, 180, 88, 180, -88, 0, -88, -180, -88], None, False);\n",
    "task = ee.batch.Export.image.toAsset(\n",
    "    image = finalImageToExport_Biomass,\n",
    "    description = 'Earthworm_Biomass_PCA_CHull_IntExt',\n",
    "    assetId = 'users/devinrouth/Earthworm_PCA_IntExt_2020/Earthworm_Biomass_PCA_CHull_IntExt_20200115',\n",
    "    region = unboundedGeo.getInfo()['coordinates'],\n",
    "    maxPixels = 1e13,\n",
    "    crs = 'EPSG:4326',\n",
    "    crsTransform = '[0.008333333333333333,0,-180,0,-0.008333333333333333,90]'\n",
    ")\n",
    "\n",
    "task.start()"
   ]
  }
 ],
 "metadata": {
  "kernelspec": {
   "display_name": "Python 3",
   "language": "python",
   "name": "python3"
  },
  "language_info": {
   "codemirror_mode": {
    "name": "ipython",
    "version": 3
   },
   "file_extension": ".py",
   "mimetype": "text/x-python",
   "name": "python",
   "nbconvert_exporter": "python",
   "pygments_lexer": "ipython3",
   "version": "3.7.4"
  }
 },
 "nbformat": 4,
 "nbformat_minor": 4
}

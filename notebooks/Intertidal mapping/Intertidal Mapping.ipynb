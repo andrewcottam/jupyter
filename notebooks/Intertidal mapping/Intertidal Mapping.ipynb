{
 "cells": [
  {
   "cell_type": "markdown",
   "metadata": {},
   "source": [
    "<a name=\"title\"><h1>Intertidal Mapping</h1></a>"
   ]
  },
  {
   "cell_type": "markdown",
   "metadata": {},
   "source": [
    "* Jupyter Notebook running on Cloud9\n",
    "* Using Google Earth Engine for the image analysis\n",
    "* Author: Andrew Cottam, Joint Research Centre\n",
    "* Date: July 2017"
   ]
  },
  {
   "cell_type": "markdown",
   "metadata": {},
   "source": [
    "<a name=\"contents\"><h1>Table of Contents</h1></a>"
   ]
  },
  {
   "cell_type": "markdown",
   "metadata": {},
   "source": [
    "<ul>\n",
    "<li><a href=#code>Code</a>\n",
    "<ul>\n",
    "<li><a href=\"#initialisation\">Initialisation</a>\n",
    "<li><a href=\"#constants\">Constants</a>\n",
    "<li><a href=\"#areas\">Study areas</a>\n",
    "<li><a href=\"#functions\">Global functions</a>\n",
    "</ul>\n",
    "<li><a href=#s1>Sentinel 1 Synthetic Aperture Radar (SAR)</a>\n",
    "<li><a href=#s2>Sentinel 2 Multi-Spectral Instrument (MSI)</a>\n",
    "<ul><li><a href=\"#bands\">Bands</a>\n",
    "</ul>\n",
    "<li><a href=\"#examples\">Intertidal Examples</a>\n",
    "<li><a href=\"#factors\">Factors affecting spectral properties</a>\n",
    "<ul>\n",
    "<li><a href=\"#depth\">Water depth</a>\n",
    "<li><a href=\"#illumination\">Solar illumination</a>\n",
    "<li><a href=\"#clouds\">Clouds</a>\n",
    "<ul>\n",
    "<li><a href=\"#vapor\">Water Vapor band (B9)</a>\n",
    "<li><a href=\"#cirrus\">Cirrus band (B10)</a>\n",
    "<li><a href=\"#qa60\">QA band (QA60)</a>\n",
    "</ul>\n",
    "<li><a href=\"#shadow\">Cloud shadow</a>\n",
    "<li><a href=\"#habitats\">Habitat types</a>\n",
    "<li><a href=\"#condition\">Habitat condition</a>\n",
    "<li><a href=\"#turbidity\">Turbidity</a>\n",
    "</ul>\n",
    "<li><a href=\"#classification\">Classification</a>\n",
    "<ul>\n",
    "<li><a href=#unsupervised>Unsupervised</a>\n",
    "<li><a href=#supervised>Supervised</a>\n",
    "<ul>\n",
    "</ul>"
   ]
  },
  {
   "cell_type": "markdown",
   "metadata": {},
   "source": [
    "<a name=\"code\"><h2>Code</h2></a>"
   ]
  },
  {
   "cell_type": "markdown",
   "metadata": {},
   "source": [
    "<a name=\"initialisation\"><h3>Initialisation</h3></a>"
   ]
  },
  {
   "cell_type": "code",
   "execution_count": 5,
   "metadata": {},
   "outputs": [],
   "source": [
    "from IPython.display import Image, display, HTML\n",
    "import ee\n",
    "ee.Initialize()"
   ]
  },
  {
   "cell_type": "markdown",
   "metadata": {},
   "source": [
    "<a name=\"constants\"><h3>Constants</h3></a>"
   ]
  },
  {
   "cell_type": "code",
   "execution_count": 6,
   "metadata": {},
   "outputs": [],
   "source": [
    "SENTINEL1 = ee.ImageCollection('COPERNICUS/S1_GRD')\n",
    "SENTINEL2 = ee.ImageCollection('COPERNICUS/S2')\n",
    "GSW = ee.Image(\"JRC/GSW1_0/GlobalSurfaceWater\")\n",
    "BATHYMETRY = ee.Image(\"NOAA/NGDC/ETOPO1\")\n",
    "SCALING_FACTOR = 5000\n",
    "MONTHS = [\"Jan\",\"Feb\",\"Mar\",\"Apr\",\"May\",\"Jun\",\"Jul\",\"Aug\",\"Sep\",\"Oct\",\"Nov\",\"Dec\"]\n",
    "BANDS = [\"B1\",\"B2\",\"B3\",\"B4\",\"B5\",\"B6\",\"B7\",\"B8\",\"B8A\",\"B9\",\"B10\",\"B11\",\"B12\"]\n",
    "UNSUPERVISED_BANDS = [\"B2\",\"B3\",\"B4\",\"B5\",\"B6\",\"B7\",\"B8\",\"B8A\",\"B11\",\"B12\"] # we dont want to include all bands in the unsupervised classification\n",
    "BAND_NAMES = [\"Coastal aerosol\",\"Blue\",\"Green\",\"Red\",\"Vegetation Red Edge 1\",\"Vegetation Red Edge 2\",\"Vegetation Red Edge 3\",\"NIR\",\"Narrow NIR\",\"Water vapour\",\"SWIR Cirrus\",\"SWIR 1\",\"SWIR 2\"]\n",
    "BAND_RESOLUTIONS = [60,10,10,10,20,20,20,10,20,60,60,20,20]"
   ]
  },
  {
   "cell_type": "markdown",
   "metadata": {},
   "source": [
    "<a name=\"areas\"><h3>Study areas</h3></a>"
   ]
  },
  {
   "cell_type": "code",
   "execution_count": 7,
   "metadata": {},
   "outputs": [],
   "source": [
    "# scale is the distance across the image in Kilometers\n",
    "AREA_CHALK_SOUND = {'centroid': ee.Geometry.Point(-72.29, 21.77), 'scale': 10}\n",
    "AREA_TURKS_AND_CAICOS = {'centroid': ee.Geometry.Point(-72.1, 21.7), 'scale': 60}\n",
    "BOTTLE_CREEK = {'centroid': ee.Geometry.Point(-71.8923, 21.88444), 'scale': 10}\n",
    "BIG_POND = {'centroid': ee.Geometry.Point(-71.70021, 21.7595), 'scale': 20}\n",
    "BIG_POND2 = {'centroid': ee.Geometry.Point(-71.70021, 21.7595), 'scale': 5}"
   ]
  },
  {
   "cell_type": "markdown",
   "metadata": {},
   "source": [
    "<a name=\"functions\"><h3>Global functions</h3></a>"
   ]
  },
  {
   "cell_type": "code",
   "execution_count": 8,
   "metadata": {},
   "outputs": [],
   "source": [
    "#returns an extent object using the passed centroid coordinate and the desired width in kilometers\n",
    "def getExtent(centroid, width):\n",
    "    width = ee.Number(width).multiply(1000)\n",
    "    scale = centroid.projection().nominalScale()\n",
    "    widthLL = ee.Number(width).divide(scale).divide(2)\n",
    "    heightLL = ee.Number(width).divide(scale).divide(2)\n",
    "    llx = ee.Number(centroid.coordinates().get(0)).subtract(widthLL)\n",
    "    lly = ee.Number(centroid.coordinates().get(1)).subtract(heightLL)\n",
    "    urx = ee.Number(centroid.coordinates().get(0)).add(widthLL)\n",
    "    ury = ee.Number(centroid.coordinates().get(1)).add(heightLL)\n",
    "    return ee.Geometry.Rectangle([llx,lly,urx,ury], None, False)\n",
    "\n",
    "# converts the image to hsv\n",
    "def getHsv(image):\n",
    "    return image.select([\"B4\", \"B3\", \"B2\"]).divide(SCALING_FACTOR).rgbToHsv()\n",
    "\n",
    "# gets the scenes for a specific area for a specific month for sentinel 2\n",
    "def getMonthImage(month):\n",
    "    #filter the data by month and study area\n",
    "    monthIndex = ee.Number(ee.List(MONTHS).indexOf(month)).add(1);\n",
    "    scenes = SENTINEL2.filterBounds(study_area).filter(ee.Filter.calendarRange(monthIndex,monthIndex,\"month\")).sort(\"CLOUDY_PIXEL_PERCENTAGE\", False) # filter for the study area and the month and order with the least cloudy images on top\n",
    "    #mosaic the data\n",
    "    mosaic = scenes.mosaic()\n",
    "#     mosaic = scenes.reduce(ee.Reducer.percentile([30])).rename([\"B1\",\"B2\",\"B3\",\"B4\",\"B5\",\"B6\",\"B7\",\"B8\",\"B8A\",\"B9\",\"B10\",\"B11\",\"B12\",\"QA10\",\"QA20\",\"QA60\"])\n",
    "#     mosaic = scenes.reduce(ee.Reducer.mean()).rename([\"B1\",\"B2\",\"B3\",\"B4\",\"B5\",\"B6\",\"B7\",\"B8\",\"B8A\",\"B9\",\"B10\",\"B11\",\"B12\",\"QA10\",\"QA20\",\"QA60\"])\n",
    "#     mosaic = ee.Algorithms.If(ee.String(_bands).index(\"hue\").eq(0).Or(ee.String(_bands).index(\"saturation\").eq(0)).Or(ee.String(_bands).index(\"value\").eq(0)), getHsv(mosaic), mosaic)\n",
    "    return ee.Image(mosaic).copyProperties(ee.Image(scenes.first())) #copy the metadata properties of the first (arbritrary) image to the mosaic\n",
    "\n",
    "# gets the clouds from the sentinel qa60 band\n",
    "def getCloudsQA60(image):\n",
    "    image = image.select('QA60').divide(ee.Number(2).pow(10)) #bits 10 and 11 denote cloud and cirrus respectively so output will be 0=no cloud, 1=cloud, 2=cirrus, 4=both\n",
    "    image = image.mask(image)\n",
    "    return image\n",
    "\n",
    "# gets the scenes for a specific area for a specific month for sentinel 1\n",
    "def getMonthImageS1(month):\n",
    "    #filter the data by month and study area\n",
    "    monthIndex = ee.Number(ee.List(MONTHS).indexOf(month)).add(1);\n",
    "    scenes = SENTINEL1.filterBounds(study_area).filter(ee.Filter.calendarRange(monthIndex,monthIndex,\"month\")) # filter for the study area and the month \n",
    "    #mosaic the data\n",
    "    mosaic = scenes.mean()\n",
    "    return ee.Image(mosaic).copyProperties(ee.Image(scenes.first())) #copy the metadata properties of the first (arbritrary) image to the mosaic\n",
    "\n",
    "# gets the study area\n",
    "def getStudyArea(area):\n",
    "    #get the extent of the passed area\n",
    "    global study_area\n",
    "    study_area = getExtent(area[\"centroid\"], area[\"scale\"])\n",
    "    return study_area\n",
    "\n",
    "# shows a single image \n",
    "def getThumbUrl(image, area, bands, size=300, min=0, max=5000):\n",
    "    study_area = getStudyArea(area)\n",
    "    url = image.getThumbUrl({'region': study_area.getInfo(), 'bands': bands,'min': min, 'max': max, 'dimensions': size})\n",
    "    return url\n",
    "\n",
    "    # gets urls for sentinel images for the area for the specific month\n",
    "def showImages(area, months, bands, size=300):\n",
    "    #get the study area\n",
    "    study_area = getStudyArea(area)\n",
    "    #convert the months from a client side to server side object and get the images\n",
    "    images = ee.List(months).map(getMonthImage)\n",
    "    urls = []\n",
    "    #get the values for the max depending on what bands we want\n",
    "    if (bands in [\"hue\",\"saturation\",\"value\"]):\n",
    "        max = 1\n",
    "    else:\n",
    "        max = SCALING_FACTOR\n",
    "    #get the thumbnail urls for each monthly image\n",
    "    for i in range(images.size().getInfo()):\n",
    "        # get the ith monthlyimage\n",
    "        img = ee.Image(ee.ImageCollection(images).toList(1,i).get(0))\n",
    "        _url = img.getThumbUrl({'region': study_area.getInfo(), 'bands': bands,'max': max, 'dimensions': size})\n",
    "        urls.append({'month': months[i],'url': _url, 'zenith': img.get(\"MEAN_SOLAR_ZENITH_ANGLE\").getInfo()})\n",
    "    #get the html to write to the output cell\n",
    "    display(HTML(data=\"\"\"<style>div#notebook-container{width:95%;}div#menubar-container{width:65%;}div#maintoolbar-container{width:99%;}</style>\"\"\"))\n",
    "    html= \"<table><tr>\"\n",
    "    for i in range(len(urls)):\n",
    "        image = urls[i]\n",
    "        if (i%4==0):\n",
    "            html += \"</tr><tr>\"\n",
    "        html += \"<td><div><div style='float:left'><img src='\" + image[\"url\"] + \"'></div><div style='font-size:24px;position:absolute;color:white;padding:10px'>\" + image[\"month\"] + \"</div><div>MEAN_SOLAR_ZENITH_ANGLE: \" + str(int(image[\"zenith\"])) + \"</div></div></td>\"\n",
    "    html += \"</tr></table>\"\n",
    "    #write the output cell\n",
    "    display(HTML(html))\n",
    "    \n",
    "# gets the urls for the sentinel images for each band\n",
    "def showBands(area, month, bands, stretches={}, size=300):\n",
    "    # get the study area\n",
    "    study_area = getStudyArea(area)\n",
    "    # get the mosaic image\n",
    "    image = getMonthImage(month)\n",
    "    #get the thumbnail urls for each band\n",
    "    urls = []\n",
    "    for i in range(len(bands)):\n",
    "        band = bands[i]\n",
    "        bandIndex = BANDS.index(band) \n",
    "        bandname = BAND_NAMES[bandIndex]\n",
    "        bandResolution = BAND_RESOLUTIONS[bandIndex]\n",
    "        if band in stretches.keys(): # if the min/max values for specific bands have been passed then use them\n",
    "            min = stretches[band][0]\n",
    "            max = stretches[band][1]\n",
    "        else:\n",
    "            min = 0\n",
    "            max = SCALING_FACTOR\n",
    "        _url = ee.Image(image).getThumbUrl({'region': study_area.getInfo(), 'bands': band,'min': min, 'max': max, 'dimensions': size})\n",
    "        urls.append({'band': band + \" \" + bandname + \" (\" + str(bandResolution) + \"m)\", 'url': _url})\n",
    "    #get the html to write to the output cell\n",
    "    display(HTML(data=\"\"\"<style>div#notebook-container{width:95%;}div#menubar-container{width:65%;}div#maintoolbar-container{width:99%;}</style>\"\"\"))\n",
    "    html= \"<table><tr>\"\n",
    "    for i in range(len(urls)):\n",
    "        image = urls[i]\n",
    "        if (i%4==0):\n",
    "            html += \"</tr><tr>\"\n",
    "        html += \"<td><div><div style='float:left'><img src='\" + image[\"url\"] + \"'></div><div style='font-size:20px;position:absolute;color:white;padding:10px'>\" + image[\"band\"] + \"</div></div></td>\"\n",
    "    html += \"</tr></table>\"\n",
    "    #write the output cell\n",
    "    display(HTML(html))\n",
    "\n",
    "# gets the sentinel 1 images\n",
    "def showImagesS1(area, months, band, size=300):\n",
    "    #get the study area\n",
    "    study_area = getStudyArea(area)\n",
    "    #convert the months from a client side to server side object and get the images\n",
    "    images = ee.List(months).map(getMonthImageS1)\n",
    "    urls = []\n",
    "    #get the thumbnail urls for each monthly image\n",
    "    for i in range(images.size().getInfo()):\n",
    "        # get the ith monthlyimage\n",
    "        img = ee.Image(ee.ImageCollection(images).toList(1,i).get(0))\n",
    "        _url = img.getThumbUrl({'region': study_area.getInfo(), 'bands': band,'min': -20, 'max': 0, 'dimensions': size})\n",
    "        urls.append({'month': months[i],'url': _url})\n",
    "    #get the html to write to the output cell\n",
    "    display(HTML(data=\"\"\"<style>div#notebook-container{width:95%;}div#menubar-container{width:65%;}div#maintoolbar-container{width:99%;}</style>\"\"\"))\n",
    "    html= \"<table><tr>\"\n",
    "    for i in range(len(urls)):\n",
    "        image = urls[i]\n",
    "        if (i%4==0):\n",
    "            html += \"</tr><tr>\"\n",
    "        html += \"<td><div><div style='float:left'><img src='\" + image[\"url\"] + \"'></div><div style='font-size:24px;position:absolute;color:white;padding:10px'>\" + image[\"month\"] + \"</div></div></td>\"\n",
    "    html += \"</tr></table>\"\n",
    "    #write the output cell\n",
    "    display(HTML(html))\n",
    "    \n",
    "def unsupervisedClassification(area, classes, size=300):\n",
    "    #get the study area\n",
    "    study_area = getStudyArea(area)\n",
    "    #get the maximum water extent\n",
    "    max_extent = GSW.select([\"max_extent\"]).updateMask(BATHYMETRY.select([\"ice_surface\"]).gte(-750))\n",
    "    #get the input imagery\n",
    "    s2c = SENTINEL2.filterBounds(study_area)\n",
    "    #reduce the amount of cloud in the composite\n",
    "    s2_all = s2c.reduce(ee.Reducer.percentile([30])).rename([\"B1\",\"B2\",\"B3\",\"B4\",\"B5\",\"B6\",\"B7\",\"B8\",\"B8A\",\"B9\",\"B10\",\"B11\",\"B12\",\"QA10\",\"QA20\",\"QA60\"])\n",
    "    #mask with the high water mark\n",
    "    s2_masked = s2_all.mask(max_extent)\n",
    "    #train on some pixels\n",
    "    training = s2_masked.select(UNSUPERVISED_BANDS).sample(study_area.getInfo(),30)\n",
    "    #classify using the weka means clusterer\n",
    "    classified = s2_masked.cluster(ee.Clusterer.wekaKMeans(classes).train(training)).randomVisualizer()\n",
    "    url = classified.getThumbUrl({'region': study_area.getInfo(), 'dimensions': size})\n",
    "    html = \"<img src='\" + url + \"'>\"\n",
    "    display(HTML(html)) "
   ]
  },
  {
   "cell_type": "markdown",
   "metadata": {},
   "source": [
    "<a name=\"s1\"><h2>Sentinel 1 Synthetic Aperture Radar (SAR)</h2>"
   ]
  },
  {
   "cell_type": "markdown",
   "metadata": {},
   "source": [
    "<a name=\"bands\"><h3>Bands</h3></a>"
   ]
  },
  {
   "cell_type": "markdown",
   "metadata": {},
   "source": [
    "There are four polarisations on the SAR sensor (VV+VH,HH+HV,HH,VV) but they are exclusive."
   ]
  },
  {
   "cell_type": "markdown",
   "metadata": {},
   "source": [
    "The following images show the mean backscatter for January and June."
   ]
  },
  {
   "cell_type": "code",
   "execution_count": 10,
   "metadata": {},
   "outputs": [
    {
     "data": {
      "text/html": [
       "<style>div#notebook-container{width:95%;}div#menubar-container{width:65%;}div#maintoolbar-container{width:99%;}</style>"
      ],
      "text/plain": [
       "<IPython.core.display.HTML object>"
      ]
     },
     "metadata": {},
     "output_type": "display_data"
    },
    {
     "data": {
      "text/html": [
       "<table><tr></tr><tr><td><div><div style='float:left'><img src='https://earthengine.googleapis.com/api/thumb?thumbid=4b71382023f9ed19d6f3a187b71ad2d5&token=512e79008711706dcb5e7f995f26956e'></div><div style='font-size:24px;position:absolute;color:white;padding:10px'>Jan</div></div></td><td><div><div style='float:left'><img src='https://earthengine.googleapis.com/api/thumb?thumbid=f698606307b41b6e5ae4456720181d79&token=921b4989d183ad0f97b6e1ad12eaeff5'></div><div style='font-size:24px;position:absolute;color:white;padding:10px'>Jul</div></div></td></tr></table>"
      ],
      "text/plain": [
       "<IPython.core.display.HTML object>"
      ]
     },
     "metadata": {},
     "output_type": "display_data"
    }
   ],
   "source": [
    "showImagesS1(AREA_CHALK_SOUND, [\"Jan\",\"Jul\"], \"VV\", 800)"
   ]
  },
  {
   "cell_type": "markdown",
   "metadata": {},
   "source": [
    "<a name=\"s2\"><h2>Sentinel 2 Multi-Spectral Instrument (MSI)</h2>"
   ]
  },
  {
   "cell_type": "markdown",
   "metadata": {},
   "source": [
    "<a name=\"bands\"><h3>Bands</h3></a>"
   ]
  },
  {
   "cell_type": "markdown",
   "metadata": {},
   "source": [
    "The following image shows the distribution of bands in the Sentinel 2 sensor compared with Landsat sensors and the technical specification for the bands."
   ]
  },
  {
   "cell_type": "markdown",
   "metadata": {},
   "source": [
    "<table style=\"border:0px;margin-left:0px\"><tr style=\"border:0px\"><td><img src='https://landsat.gsfc.nasa.gov/wp-content/uploads/2015/06/Landsat.v.Sentinel-2.png' style='width:900px;margin-left:0px'></td><td>\n",
    "<table class=\"wikitable\" style=\"border:0px;margin-left:0px;font-size:0.85em\">\n",
    "<tr style=\"border:0px\">\n",
    "<th>Sentinel-2 Bands</th>\n",
    "<th>Central Wavelength (µm)</th>\n",
    "<th>Resolution (m)</th>\n",
    "</tr>\n",
    "<tr>\n",
    "<td>Band 1 – Coastal aerosol</td>\n",
    "<td>0.443</td>\n",
    "<td>60</td>\n",
    "</tr>\n",
    "<tr>\n",
    "<td>Band 2 – Blue</td>\n",
    "<td>0.490</td>\n",
    "<td>10</td>\n",
    "</tr>\n",
    "<tr>\n",
    "<td>Band 3 – Green</td>\n",
    "<td>0.560</td>\n",
    "<td>10</td>\n",
    "</tr>\n",
    "<tr>\n",
    "<td>Band 4 – Red</td>\n",
    "<td>0.665</td>\n",
    "<td>10</td>\n",
    "</tr>\n",
    "<tr>\n",
    "<td>Band 5 – Vegetation Red Edge</td>\n",
    "<td>0.705</td>\n",
    "<td>20</td>\n",
    "</tr>\n",
    "<tr>\n",
    "<td>Band 6 – Vegetation Red Edge</td>\n",
    "<td>0.740</td>\n",
    "<td>20</td>\n",
    "</tr>\n",
    "<tr>\n",
    "<td>Band 7 – Vegetation Red Edge</td>\n",
    "<td>0.783</td>\n",
    "<td>20</td>\n",
    "</tr>\n",
    "<tr>\n",
    "<td>Band 8 – NIR</td>\n",
    "<td>0.842</td>\n",
    "<td>10</td>\n",
    "</tr>\n",
    "<tr>\n",
    "<td>Band 8A – Narrow NIR</td>\n",
    "<td>0.865</td>\n",
    "<td>20</td>\n",
    "</tr>\n",
    "<tr>\n",
    "<td>Band 9 – Water vapour</td>\n",
    "<td>0.945</td>\n",
    "<td>60</td>\n",
    "</tr>\n",
    "<tr>\n",
    "<td>Band 10 – SWIR – Cirrus</td>\n",
    "<td>1.375</td>\n",
    "<td>60</td>\n",
    "</tr>\n",
    "<tr>\n",
    "<td>Band 11 – SWIR</td>\n",
    "<td>1.610</td>\n",
    "<td>20</td>\n",
    "</tr>\n",
    "<tr>\n",
    "<td>Band 12 – SWIR</td>\n",
    "<td>2.190</td>\n",
    "<td>20</td>\n",
    "</tr>\n",
    "</table></td></tr></table>"
   ]
  },
  {
   "cell_type": "markdown",
   "metadata": {},
   "source": [
    "The images below show all of the band images for the Turks and Caicos."
   ]
  },
  {
   "cell_type": "code",
   "execution_count": 11,
   "metadata": {},
   "outputs": [
    {
     "data": {
      "text/html": [
       "<style>div#notebook-container{width:95%;}div#menubar-container{width:65%;}div#maintoolbar-container{width:99%;}</style>"
      ],
      "text/plain": [
       "<IPython.core.display.HTML object>"
      ]
     },
     "metadata": {},
     "output_type": "display_data"
    },
    {
     "data": {
      "text/html": [
       "<table><tr></tr><tr><td><div><div style='float:left'><img src='https://earthengine.googleapis.com/api/thumb?thumbid=3c1c8b8d76effb3c7c3a225bbd4a3c47&token=1d7a4096f1210c55eabf4ee0f690aa06'></div><div style='font-size:20px;position:absolute;color:white;padding:10px'>B1 Coastal aerosol (60m)</div></div></td><td><div><div style='float:left'><img src='https://earthengine.googleapis.com/api/thumb?thumbid=c0be85f925a2f74c1bfdb574346bd8df&token=5f1d6ac2a2bd5d30d0c687358b4656f5'></div><div style='font-size:20px;position:absolute;color:white;padding:10px'>B2 Blue (10m)</div></div></td><td><div><div style='float:left'><img src='https://earthengine.googleapis.com/api/thumb?thumbid=4ece890314d50fbf60cfddf50de0a5be&token=ff02449a2a2817be9d9e9402e1abfc68'></div><div style='font-size:20px;position:absolute;color:white;padding:10px'>B3 Green (10m)</div></div></td><td><div><div style='float:left'><img src='https://earthengine.googleapis.com/api/thumb?thumbid=e618112845b4f27cdf66f40535c4538f&token=f1ad035f1b5b60d929fcb5100466e790'></div><div style='font-size:20px;position:absolute;color:white;padding:10px'>B4 Red (10m)</div></div></td></tr><tr><td><div><div style='float:left'><img src='https://earthengine.googleapis.com/api/thumb?thumbid=3f3f3b44ec9e655605b86f56564b89af&token=a6d988aff51a030ec05c6af90f9d722f'></div><div style='font-size:20px;position:absolute;color:white;padding:10px'>B5 Vegetation Red Edge 1 (20m)</div></div></td><td><div><div style='float:left'><img src='https://earthengine.googleapis.com/api/thumb?thumbid=f646d964441a88d3814ab4594b812bcd&token=9de3e04a337911d18a3d1580ac2d96f7'></div><div style='font-size:20px;position:absolute;color:white;padding:10px'>B6 Vegetation Red Edge 2 (20m)</div></div></td><td><div><div style='float:left'><img src='https://earthengine.googleapis.com/api/thumb?thumbid=97f70678775b599cbefa2f090c8eac1d&token=6de094d903f4b2fb67b246d7bbef6bde'></div><div style='font-size:20px;position:absolute;color:white;padding:10px'>B7 Vegetation Red Edge 3 (20m)</div></div></td><td><div><div style='float:left'><img src='https://earthengine.googleapis.com/api/thumb?thumbid=c8ccebdbfc7fcada2bd4bee31af89421&token=204d44cf718eb9cb05e454ef2f033fb5'></div><div style='font-size:20px;position:absolute;color:white;padding:10px'>B8 NIR (10m)</div></div></td></tr><tr><td><div><div style='float:left'><img src='https://earthengine.googleapis.com/api/thumb?thumbid=27f8c339e8d52c24493f376022b4f8ce&token=2335d159787897eaa9bedc7e73bfdf71'></div><div style='font-size:20px;position:absolute;color:white;padding:10px'>B8A Narrow NIR (20m)</div></div></td><td><div><div style='float:left'><img src='https://earthengine.googleapis.com/api/thumb?thumbid=9b8e2a96dc747cab7996e828945260a1&token=9d07b4181f9b648a30d3021f1b3b3383'></div><div style='font-size:20px;position:absolute;color:white;padding:10px'>B9 Water vapour (60m)</div></div></td><td><div><div style='float:left'><img src='https://earthengine.googleapis.com/api/thumb?thumbid=b83ef6ef5668ec6a0f56ff34a572b6ae&token=0dd7eedb163277ec4e8c235d4ded95e3'></div><div style='font-size:20px;position:absolute;color:white;padding:10px'>B10 SWIR Cirrus (60m)</div></div></td><td><div><div style='float:left'><img src='https://earthengine.googleapis.com/api/thumb?thumbid=017bc26e3f1591c35d2193200f977fab&token=27fd3fbcc4be798c2b0c1e19b1de842c'></div><div style='font-size:20px;position:absolute;color:white;padding:10px'>B11 SWIR 1 (20m)</div></div></td></tr><tr><td><div><div style='float:left'><img src='https://earthengine.googleapis.com/api/thumb?thumbid=44d6ec6e78e570f8e126092079090cfa&token=02fdfac21b7880f062f2352409819936'></div><div style='font-size:20px;position:absolute;color:white;padding:10px'>B12 SWIR 2 (20m)</div></div></td></tr></table>"
      ],
      "text/plain": [
       "<IPython.core.display.HTML object>"
      ]
     },
     "metadata": {},
     "output_type": "display_data"
    }
   ],
   "source": [
    "showBands(AREA_CHALK_SOUND, \"Jan\", BANDS, {\"B10\":[0,100]})\n",
    "# showBands(AREA_CHALK_SOUND, \"Jan\", [\"B1\"])\n",
    "# showBands(AREA_CHALK_SOUND, \"Jan\", BANDS, {\"B1\":[1000,4000],\"B4\":[0,4000],\"B6\":[0,1000],\"B7\":[0,1000],\"B8\":[0,1000],\"B8A\":[0,1000],\"B9\":[0,1000],\"B10\":[0,1000],\"B11\":[0,1000]}, 400)"
   ]
  },
  {
   "cell_type": "markdown",
   "metadata": {},
   "source": [
    "<a name=\"examples\"><h2>Intertidal Examples</h2></a>"
   ]
  },
  {
   "cell_type": "markdown",
   "metadata": {},
   "source": [
    "An example mosaic image for the Turks and Caicos Islands for January is shown below:"
   ]
  },
  {
   "cell_type": "code",
   "execution_count": 8,
   "metadata": {},
   "outputs": [
    {
     "data": {
      "text/html": [
       "<style>div#notebook-container{width:95%;}div#menubar-container{width:65%;}div#maintoolbar-container{width:99%;}</style>"
      ],
      "text/plain": [
       "<IPython.core.display.HTML object>"
      ]
     },
     "metadata": {},
     "output_type": "display_data"
    },
    {
     "data": {
      "text/html": [
       "<table><tr></tr><tr><td><div><div style='float:left'><img src='https://earthengine.googleapis.com/api/thumb?thumbid=75dd207552857a2cc7e0922070380c2f&token=d4d4e74676361c71b42d9a445e22d5fe'></div><div style='font-size:24px;position:absolute;color:white;padding:10px'>Jan</div><div>MEAN_SOLAR_ZENITH_ANGLE: 49</div></div></td></tr></table>"
      ],
      "text/plain": [
       "<IPython.core.display.HTML object>"
      ]
     },
     "metadata": {},
     "output_type": "display_data"
    }
   ],
   "source": [
    "showImages(AREA_CHALK_SOUND, [\"Jan\"], \"B4,B3,B2\", 800)"
   ]
  },
  {
   "cell_type": "markdown",
   "metadata": {},
   "source": [
    "An example for a single band (in this case the blue band) is shown below."
   ]
  },
  {
   "cell_type": "markdown",
   "metadata": {},
   "source": [
    "<a name=\"factors\"><h2>Factors affecting spectral properties</h2></a>"
   ]
  },
  {
   "cell_type": "markdown",
   "metadata": {},
   "source": [
    "Changes in the surface spectral properties are due to differences in solar illumination, cloud contamination, habitat types, conditions and seasonality. They are also due to differences in the physical properties of the water, e.g. to the turbidity. "
   ]
  },
  {
   "cell_type": "markdown",
   "metadata": {},
   "source": [
    "<a name='depth'><h3>Water depth</h3></a>"
   ]
  },
  {
   "cell_type": "markdown",
   "metadata": {},
   "source": [
    "The spectral properties will be affected by the depth of the water, including whether water is present or not for intertidal zones. This will depend on the height of the tide."
   ]
  },
  {
   "cell_type": "markdown",
   "metadata": {},
   "source": [
    "<a name=\"illumination\"><h3>Solar illumination</h3></a>"
   ]
  },
  {
   "cell_type": "markdown",
   "metadata": {},
   "source": [
    "The following example shows the variability in the illumination of the surface."
   ]
  },
  {
   "cell_type": "code",
   "execution_count": 9,
   "metadata": {
    "scrolled": true
   },
   "outputs": [
    {
     "data": {
      "text/html": [
       "<style>div#notebook-container{width:95%;}div#menubar-container{width:65%;}div#maintoolbar-container{width:99%;}</style>"
      ],
      "text/plain": [
       "<IPython.core.display.HTML object>"
      ]
     },
     "metadata": {},
     "output_type": "display_data"
    },
    {
     "data": {
      "text/html": [
       "<table><tr></tr><tr><td><div><div style='float:left'><img src='https://earthengine.googleapis.com/api/thumb?thumbid=6b0dc2b07e6b98094f820012b6daad3a&token=8eb834b93b0c0145dfb5025f0d870b55'></div><div style='font-size:24px;position:absolute;color:white;padding:10px'>Jan</div><div>MEAN_SOLAR_ZENITH_ANGLE: 49</div></div></td><td><div><div style='float:left'><img src='https://earthengine.googleapis.com/api/thumb?thumbid=d558187af3b7b9ae321de4219961fe42&token=f075699502c572e9b95280c03265c7f5'></div><div style='font-size:24px;position:absolute;color:white;padding:10px'>Feb</div><div>MEAN_SOLAR_ZENITH_ANGLE: 43</div></div></td><td><div><div style='float:left'><img src='https://earthengine.googleapis.com/api/thumb?thumbid=d97a711dbcd68ecd79a1edb43d74633e&token=3cc702de03a4e069c1e508120f70decc'></div><div style='font-size:24px;position:absolute;color:white;padding:10px'>Mar</div><div>MEAN_SOLAR_ZENITH_ANGLE: 29</div></div></td><td><div><div style='float:left'><img src='https://earthengine.googleapis.com/api/thumb?thumbid=ba0cdc63dadd7c087c31742a6118ee77&token=49be7e7f15fab5a0410276d1291f46d1'></div><div style='font-size:24px;position:absolute;color:white;padding:10px'>Apr</div><div>MEAN_SOLAR_ZENITH_ANGLE: 18</div></div></td></tr><tr><td><div><div style='float:left'><img src='https://earthengine.googleapis.com/api/thumb?thumbid=6e71c44956cd75e6aec4aa0247d2fbfb&token=814bf22c2f48a66c551b7de27fe11a09'></div><div style='font-size:24px;position:absolute;color:white;padding:10px'>May</div><div>MEAN_SOLAR_ZENITH_ANGLE: 16</div></div></td><td><div><div style='float:left'><img src='https://earthengine.googleapis.com/api/thumb?thumbid=6977f412f8d5e098a7cc50531c1d7d3b&token=293a45ff63fea16366199bd6f9086ee8'></div><div style='font-size:24px;position:absolute;color:white;padding:10px'>Jun</div><div>MEAN_SOLAR_ZENITH_ANGLE: 19</div></div></td><td><div><div style='float:left'><img src='https://earthengine.googleapis.com/api/thumb?thumbid=e5a008b758958ed81c8122013b3ea660&token=0deb17dbedb4641c3e7f503e7549e369'></div><div style='font-size:24px;position:absolute;color:white;padding:10px'>Jul</div><div>MEAN_SOLAR_ZENITH_ANGLE: 21</div></div></td><td><div><div style='float:left'><img src='https://earthengine.googleapis.com/api/thumb?thumbid=b82a80c69c21941272b7ee74e54299bb&token=542e2fc9b8f95aa057b98481ff8f3ccc'></div><div style='font-size:24px;position:absolute;color:white;padding:10px'>Aug</div><div>MEAN_SOLAR_ZENITH_ANGLE: 22</div></div></td></tr><tr><td><div><div style='float:left'><img src='https://earthengine.googleapis.com/api/thumb?thumbid=0908bd2e0588a2b57f6ea9e8ccc0a3e8&token=5c55fc27abf16f07a438e8826222c717'></div><div style='font-size:24px;position:absolute;color:white;padding:10px'>Sep</div><div>MEAN_SOLAR_ZENITH_ANGLE: 28</div></div></td><td><div><div style='float:left'><img src='https://earthengine.googleapis.com/api/thumb?thumbid=d00f9a2801f03bed0fd91a4340feef94&token=96de5ca952b8d442a49f34b7ca22c2f7'></div><div style='font-size:24px;position:absolute;color:white;padding:10px'>Oct</div><div>MEAN_SOLAR_ZENITH_ANGLE: 38</div></div></td><td><div><div style='float:left'><img src='https://earthengine.googleapis.com/api/thumb?thumbid=2a0e79e1c4d6a8167056d11863331455&token=3a62551eeb914c23bd8ead65038a8100'></div><div style='font-size:24px;position:absolute;color:white;padding:10px'>Nov</div><div>MEAN_SOLAR_ZENITH_ANGLE: 43</div></div></td><td><div><div style='float:left'><img src='https://earthengine.googleapis.com/api/thumb?thumbid=0066737bcccc6cf3e2d1465b09c0009f&token=54c11c233171eb0b26d7b82a4910e709'></div><div style='font-size:24px;position:absolute;color:white;padding:10px'>Dec</div><div>MEAN_SOLAR_ZENITH_ANGLE: 48</div></div></td></tr></table>"
      ],
      "text/plain": [
       "<IPython.core.display.HTML object>"
      ]
     },
     "metadata": {},
     "output_type": "display_data"
    }
   ],
   "source": [
    "# showImages(AREA_CHALK_SOUND, [\"Jan\",\"Aug\"], \"B4,B3,B2\", 600)\n",
    "showImages(AREA_CHALK_SOUND, MONTHS, \"B4,B3,B2\", 300)"
   ]
  },
  {
   "cell_type": "code",
   "execution_count": 10,
   "metadata": {},
   "outputs": [
    {
     "ename": "EEException",
     "evalue": "Image.visualize: No band named 'hue'. Available band names: [B1, B2, B3, B4, B5, B6, B7, B8, B8A, B9, B10, B11, B12, QA10, QA20, QA60].",
     "output_type": "error",
     "traceback": [
      "\u001b[0;31m---------------------------------------------------------------------------\u001b[0m",
      "\u001b[0;31mEEException\u001b[0m                               Traceback (most recent call last)",
      "\u001b[0;32m<ipython-input-10-1aed616ecf5d>\u001b[0m in \u001b[0;36m<module>\u001b[0;34m()\u001b[0m\n\u001b[0;32m----> 1\u001b[0;31m \u001b[0mshowImages\u001b[0m\u001b[0;34m(\u001b[0m\u001b[0mAREA_CHALK_SOUND\u001b[0m\u001b[0;34m,\u001b[0m \u001b[0;34m[\u001b[0m\u001b[0;34m\"Jan\"\u001b[0m\u001b[0;34m,\u001b[0m\u001b[0;34m\"Aug\"\u001b[0m\u001b[0;34m]\u001b[0m\u001b[0;34m,\u001b[0m \u001b[0;34m\"hue\"\u001b[0m\u001b[0;34m,\u001b[0m \u001b[0;36m600\u001b[0m\u001b[0;34m)\u001b[0m\u001b[0;34m\u001b[0m\u001b[0m\n\u001b[0m",
      "\u001b[0;32m<ipython-input-5-127d9c6f3d01>\u001b[0m in \u001b[0;36mshowImages\u001b[0;34m(area, months, bands, size)\u001b[0m\n\u001b[1;32m     71\u001b[0m         \u001b[0;31m# get the ith monthlyimage\u001b[0m\u001b[0;34m\u001b[0m\u001b[0;34m\u001b[0m\u001b[0m\n\u001b[1;32m     72\u001b[0m         \u001b[0mimg\u001b[0m \u001b[0;34m=\u001b[0m \u001b[0mee\u001b[0m\u001b[0;34m.\u001b[0m\u001b[0mImage\u001b[0m\u001b[0;34m(\u001b[0m\u001b[0mee\u001b[0m\u001b[0;34m.\u001b[0m\u001b[0mImageCollection\u001b[0m\u001b[0;34m(\u001b[0m\u001b[0mimages\u001b[0m\u001b[0;34m)\u001b[0m\u001b[0;34m.\u001b[0m\u001b[0mtoList\u001b[0m\u001b[0;34m(\u001b[0m\u001b[0;36m1\u001b[0m\u001b[0;34m,\u001b[0m\u001b[0mi\u001b[0m\u001b[0;34m)\u001b[0m\u001b[0;34m.\u001b[0m\u001b[0mget\u001b[0m\u001b[0;34m(\u001b[0m\u001b[0;36m0\u001b[0m\u001b[0;34m)\u001b[0m\u001b[0;34m)\u001b[0m\u001b[0;34m\u001b[0m\u001b[0m\n\u001b[0;32m---> 73\u001b[0;31m         \u001b[0m_url\u001b[0m \u001b[0;34m=\u001b[0m \u001b[0mimg\u001b[0m\u001b[0;34m.\u001b[0m\u001b[0mgetThumbUrl\u001b[0m\u001b[0;34m(\u001b[0m\u001b[0;34m{\u001b[0m\u001b[0;34m'region'\u001b[0m\u001b[0;34m:\u001b[0m \u001b[0mstudy_area\u001b[0m\u001b[0;34m.\u001b[0m\u001b[0mgetInfo\u001b[0m\u001b[0;34m(\u001b[0m\u001b[0;34m)\u001b[0m\u001b[0;34m,\u001b[0m \u001b[0;34m'bands'\u001b[0m\u001b[0;34m:\u001b[0m \u001b[0mbands\u001b[0m\u001b[0;34m,\u001b[0m\u001b[0;34m'max'\u001b[0m\u001b[0;34m:\u001b[0m \u001b[0mmax\u001b[0m\u001b[0;34m,\u001b[0m \u001b[0;34m'dimensions'\u001b[0m\u001b[0;34m:\u001b[0m \u001b[0msize\u001b[0m\u001b[0;34m}\u001b[0m\u001b[0;34m)\u001b[0m\u001b[0;34m\u001b[0m\u001b[0m\n\u001b[0m\u001b[1;32m     74\u001b[0m         \u001b[0murls\u001b[0m\u001b[0;34m.\u001b[0m\u001b[0mappend\u001b[0m\u001b[0;34m(\u001b[0m\u001b[0;34m{\u001b[0m\u001b[0;34m'month'\u001b[0m\u001b[0;34m:\u001b[0m \u001b[0mmonths\u001b[0m\u001b[0;34m[\u001b[0m\u001b[0mi\u001b[0m\u001b[0;34m]\u001b[0m\u001b[0;34m,\u001b[0m\u001b[0;34m'url'\u001b[0m\u001b[0;34m:\u001b[0m \u001b[0m_url\u001b[0m\u001b[0;34m,\u001b[0m \u001b[0;34m'zenith'\u001b[0m\u001b[0;34m:\u001b[0m \u001b[0mimg\u001b[0m\u001b[0;34m.\u001b[0m\u001b[0mget\u001b[0m\u001b[0;34m(\u001b[0m\u001b[0;34m\"MEAN_SOLAR_ZENITH_ANGLE\"\u001b[0m\u001b[0;34m)\u001b[0m\u001b[0;34m.\u001b[0m\u001b[0mgetInfo\u001b[0m\u001b[0;34m(\u001b[0m\u001b[0;34m)\u001b[0m\u001b[0;34m}\u001b[0m\u001b[0;34m)\u001b[0m\u001b[0;34m\u001b[0m\u001b[0m\n\u001b[1;32m     75\u001b[0m     \u001b[0;31m#get the html to write to the output cell\u001b[0m\u001b[0;34m\u001b[0m\u001b[0;34m\u001b[0m\u001b[0m\n",
      "\u001b[0;32m/home/ubuntu/miniconda2/lib/python2.7/site-packages/ee/deprecation.pyc\u001b[0m in \u001b[0;36mWrapper\u001b[0;34m(*args, **kwargs)\u001b[0m\n\u001b[1;32m     30\u001b[0m           \u001b[0mfilename\u001b[0m\u001b[0;34m=\u001b[0m\u001b[0mfunc\u001b[0m\u001b[0;34m.\u001b[0m\u001b[0m__code__\u001b[0m\u001b[0;34m.\u001b[0m\u001b[0mco_filename\u001b[0m\u001b[0;34m,\u001b[0m\u001b[0;34m\u001b[0m\u001b[0m\n\u001b[1;32m     31\u001b[0m           lineno=func.__code__.co_firstlineno + 1)\n\u001b[0;32m---> 32\u001b[0;31m       \u001b[0;32mreturn\u001b[0m \u001b[0mfunc\u001b[0m\u001b[0;34m(\u001b[0m\u001b[0;34m*\u001b[0m\u001b[0margs\u001b[0m\u001b[0;34m,\u001b[0m \u001b[0;34m**\u001b[0m\u001b[0mkwargs\u001b[0m\u001b[0;34m)\u001b[0m\u001b[0;34m\u001b[0m\u001b[0m\n\u001b[0m\u001b[1;32m     33\u001b[0m     \u001b[0mdeprecation_message\u001b[0m \u001b[0;34m=\u001b[0m \u001b[0;34m'\\nDEPRECATED: '\u001b[0m \u001b[0;34m+\u001b[0m \u001b[0mmessage\u001b[0m\u001b[0;34m\u001b[0m\u001b[0m\n\u001b[1;32m     34\u001b[0m     \u001b[0;32mtry\u001b[0m\u001b[0;34m:\u001b[0m\u001b[0;34m\u001b[0m\u001b[0m\n",
      "\u001b[0;32m/home/ubuntu/miniconda2/lib/python2.7/site-packages/ee/image.pyc\u001b[0m in \u001b[0;36mgetThumbURL\u001b[0;34m(self, params)\u001b[0m\n\u001b[1;32m    410\u001b[0m         raise ee_exception.EEException(\n\u001b[1;32m    411\u001b[0m             'The region parameter must be an array or a GeoJSON object.')\n\u001b[0;32m--> 412\u001b[0;31m     \u001b[0;32mreturn\u001b[0m \u001b[0mdata\u001b[0m\u001b[0;34m.\u001b[0m\u001b[0mmakeThumbUrl\u001b[0m\u001b[0;34m(\u001b[0m\u001b[0mdata\u001b[0m\u001b[0;34m.\u001b[0m\u001b[0mgetThumbId\u001b[0m\u001b[0;34m(\u001b[0m\u001b[0mparams\u001b[0m\u001b[0;34m)\u001b[0m\u001b[0;34m)\u001b[0m\u001b[0;34m\u001b[0m\u001b[0m\n\u001b[0m\u001b[1;32m    413\u001b[0m \u001b[0;34m\u001b[0m\u001b[0m\n\u001b[1;32m    414\u001b[0m   \u001b[0;31m# Deprecated spellings to match the JS library.\u001b[0m\u001b[0;34m\u001b[0m\u001b[0;34m\u001b[0m\u001b[0m\n",
      "\u001b[0;32m/home/ubuntu/miniconda2/lib/python2.7/site-packages/ee/data.pyc\u001b[0m in \u001b[0;36mgetThumbId\u001b[0;34m(params)\u001b[0m\n\u001b[1;32m    730\u001b[0m   \u001b[0;32mif\u001b[0m \u001b[0;34m'size'\u001b[0m \u001b[0;32min\u001b[0m \u001b[0mrequest\u001b[0m \u001b[0;32mand\u001b[0m \u001b[0misinstance\u001b[0m\u001b[0;34m(\u001b[0m\u001b[0mrequest\u001b[0m\u001b[0;34m[\u001b[0m\u001b[0;34m'size'\u001b[0m\u001b[0;34m]\u001b[0m\u001b[0;34m,\u001b[0m \u001b[0;34m(\u001b[0m\u001b[0mlist\u001b[0m\u001b[0;34m,\u001b[0m \u001b[0mtuple\u001b[0m\u001b[0;34m)\u001b[0m\u001b[0;34m)\u001b[0m\u001b[0;34m:\u001b[0m\u001b[0;34m\u001b[0m\u001b[0m\n\u001b[1;32m    731\u001b[0m     \u001b[0mrequest\u001b[0m\u001b[0;34m[\u001b[0m\u001b[0;34m'size'\u001b[0m\u001b[0;34m]\u001b[0m \u001b[0;34m=\u001b[0m \u001b[0;34m'x'\u001b[0m\u001b[0;34m.\u001b[0m\u001b[0mjoin\u001b[0m\u001b[0;34m(\u001b[0m\u001b[0mmap\u001b[0m\u001b[0;34m(\u001b[0m\u001b[0mstr\u001b[0m\u001b[0;34m,\u001b[0m \u001b[0mrequest\u001b[0m\u001b[0;34m[\u001b[0m\u001b[0;34m'size'\u001b[0m\u001b[0;34m]\u001b[0m\u001b[0;34m)\u001b[0m\u001b[0;34m)\u001b[0m\u001b[0;34m\u001b[0m\u001b[0m\n\u001b[0;32m--> 732\u001b[0;31m   \u001b[0;32mreturn\u001b[0m \u001b[0msend_\u001b[0m\u001b[0;34m(\u001b[0m\u001b[0;34m'/thumb'\u001b[0m\u001b[0;34m,\u001b[0m \u001b[0mrequest\u001b[0m\u001b[0;34m)\u001b[0m\u001b[0;34m\u001b[0m\u001b[0m\n\u001b[0m\u001b[1;32m    733\u001b[0m \u001b[0;34m\u001b[0m\u001b[0m\n\u001b[1;32m    734\u001b[0m \u001b[0;34m\u001b[0m\u001b[0m\n",
      "\u001b[0;32m/home/ubuntu/miniconda2/lib/python2.7/site-packages/ee/data.pyc\u001b[0m in \u001b[0;36msend_\u001b[0;34m(path, params, opt_method, opt_raw)\u001b[0m\n\u001b[1;32m   1691\u001b[0m       \u001b[0;32mraise\u001b[0m \u001b[0mee_exception\u001b[0m\u001b[0;34m.\u001b[0m\u001b[0mEEException\u001b[0m\u001b[0;34m(\u001b[0m\u001b[0;34m'Invalid JSON: %s'\u001b[0m \u001b[0;34m%\u001b[0m \u001b[0mcontent\u001b[0m\u001b[0;34m)\u001b[0m\u001b[0;34m\u001b[0m\u001b[0m\n\u001b[1;32m   1692\u001b[0m     \u001b[0;32mif\u001b[0m \u001b[0;34m'error'\u001b[0m \u001b[0;32min\u001b[0m \u001b[0mjson_content\u001b[0m\u001b[0;34m:\u001b[0m\u001b[0;34m\u001b[0m\u001b[0m\n\u001b[0;32m-> 1693\u001b[0;31m       \u001b[0;32mraise\u001b[0m \u001b[0mee_exception\u001b[0m\u001b[0;34m.\u001b[0m\u001b[0mEEException\u001b[0m\u001b[0;34m(\u001b[0m\u001b[0mjson_content\u001b[0m\u001b[0;34m[\u001b[0m\u001b[0;34m'error'\u001b[0m\u001b[0;34m]\u001b[0m\u001b[0;34m[\u001b[0m\u001b[0;34m'message'\u001b[0m\u001b[0;34m]\u001b[0m\u001b[0;34m)\u001b[0m\u001b[0;34m\u001b[0m\u001b[0m\n\u001b[0m\u001b[1;32m   1694\u001b[0m     \u001b[0;32mif\u001b[0m \u001b[0;34m'data'\u001b[0m \u001b[0;32mnot\u001b[0m \u001b[0;32min\u001b[0m \u001b[0mcontent\u001b[0m\u001b[0;34m:\u001b[0m\u001b[0;34m\u001b[0m\u001b[0m\n\u001b[1;32m   1695\u001b[0m       \u001b[0;32mraise\u001b[0m \u001b[0mee_exception\u001b[0m\u001b[0;34m.\u001b[0m\u001b[0mEEException\u001b[0m\u001b[0;34m(\u001b[0m\u001b[0;34m'Malformed response: '\u001b[0m \u001b[0;34m+\u001b[0m \u001b[0mstr\u001b[0m\u001b[0;34m(\u001b[0m\u001b[0mcontent\u001b[0m\u001b[0;34m)\u001b[0m\u001b[0;34m)\u001b[0m\u001b[0;34m\u001b[0m\u001b[0m\n",
      "\u001b[0;31mEEException\u001b[0m: Image.visualize: No band named 'hue'. Available band names: [B1, B2, B3, B4, B5, B6, B7, B8, B8A, B9, B10, B11, B12, QA10, QA20, QA60]."
     ]
    }
   ],
   "source": [
    "showImages(AREA_CHALK_SOUND, [\"Jan\",\"Aug\"], \"hue\", 600)"
   ]
  },
  {
   "cell_type": "code",
   "execution_count": 11,
   "metadata": {},
   "outputs": [
    {
     "ename": "EEException",
     "evalue": "Image.visualize: No band named 'saturation'. Available band names: [B1, B2, B3, B4, B5, B6, B7, B8, B8A, B9, B10, B11, B12, QA10, QA20, QA60].",
     "output_type": "error",
     "traceback": [
      "\u001b[0;31m---------------------------------------------------------------------------\u001b[0m",
      "\u001b[0;31mEEException\u001b[0m                               Traceback (most recent call last)",
      "\u001b[0;32m<ipython-input-11-ca5b978eedd9>\u001b[0m in \u001b[0;36m<module>\u001b[0;34m()\u001b[0m\n\u001b[0;32m----> 1\u001b[0;31m \u001b[0mshowImages\u001b[0m\u001b[0;34m(\u001b[0m\u001b[0mAREA_CHALK_SOUND\u001b[0m\u001b[0;34m,\u001b[0m \u001b[0;34m[\u001b[0m\u001b[0;34m\"Jan\"\u001b[0m\u001b[0;34m,\u001b[0m\u001b[0;34m\"Aug\"\u001b[0m\u001b[0;34m]\u001b[0m\u001b[0;34m,\u001b[0m \u001b[0;34m\"saturation\"\u001b[0m\u001b[0;34m,\u001b[0m \u001b[0;36m600\u001b[0m\u001b[0;34m)\u001b[0m\u001b[0;34m\u001b[0m\u001b[0m\n\u001b[0m",
      "\u001b[0;32m<ipython-input-5-127d9c6f3d01>\u001b[0m in \u001b[0;36mshowImages\u001b[0;34m(area, months, bands, size)\u001b[0m\n\u001b[1;32m     71\u001b[0m         \u001b[0;31m# get the ith monthlyimage\u001b[0m\u001b[0;34m\u001b[0m\u001b[0;34m\u001b[0m\u001b[0m\n\u001b[1;32m     72\u001b[0m         \u001b[0mimg\u001b[0m \u001b[0;34m=\u001b[0m \u001b[0mee\u001b[0m\u001b[0;34m.\u001b[0m\u001b[0mImage\u001b[0m\u001b[0;34m(\u001b[0m\u001b[0mee\u001b[0m\u001b[0;34m.\u001b[0m\u001b[0mImageCollection\u001b[0m\u001b[0;34m(\u001b[0m\u001b[0mimages\u001b[0m\u001b[0;34m)\u001b[0m\u001b[0;34m.\u001b[0m\u001b[0mtoList\u001b[0m\u001b[0;34m(\u001b[0m\u001b[0;36m1\u001b[0m\u001b[0;34m,\u001b[0m\u001b[0mi\u001b[0m\u001b[0;34m)\u001b[0m\u001b[0;34m.\u001b[0m\u001b[0mget\u001b[0m\u001b[0;34m(\u001b[0m\u001b[0;36m0\u001b[0m\u001b[0;34m)\u001b[0m\u001b[0;34m)\u001b[0m\u001b[0;34m\u001b[0m\u001b[0m\n\u001b[0;32m---> 73\u001b[0;31m         \u001b[0m_url\u001b[0m \u001b[0;34m=\u001b[0m \u001b[0mimg\u001b[0m\u001b[0;34m.\u001b[0m\u001b[0mgetThumbUrl\u001b[0m\u001b[0;34m(\u001b[0m\u001b[0;34m{\u001b[0m\u001b[0;34m'region'\u001b[0m\u001b[0;34m:\u001b[0m \u001b[0mstudy_area\u001b[0m\u001b[0;34m.\u001b[0m\u001b[0mgetInfo\u001b[0m\u001b[0;34m(\u001b[0m\u001b[0;34m)\u001b[0m\u001b[0;34m,\u001b[0m \u001b[0;34m'bands'\u001b[0m\u001b[0;34m:\u001b[0m \u001b[0mbands\u001b[0m\u001b[0;34m,\u001b[0m\u001b[0;34m'max'\u001b[0m\u001b[0;34m:\u001b[0m \u001b[0mmax\u001b[0m\u001b[0;34m,\u001b[0m \u001b[0;34m'dimensions'\u001b[0m\u001b[0;34m:\u001b[0m \u001b[0msize\u001b[0m\u001b[0;34m}\u001b[0m\u001b[0;34m)\u001b[0m\u001b[0;34m\u001b[0m\u001b[0m\n\u001b[0m\u001b[1;32m     74\u001b[0m         \u001b[0murls\u001b[0m\u001b[0;34m.\u001b[0m\u001b[0mappend\u001b[0m\u001b[0;34m(\u001b[0m\u001b[0;34m{\u001b[0m\u001b[0;34m'month'\u001b[0m\u001b[0;34m:\u001b[0m \u001b[0mmonths\u001b[0m\u001b[0;34m[\u001b[0m\u001b[0mi\u001b[0m\u001b[0;34m]\u001b[0m\u001b[0;34m,\u001b[0m\u001b[0;34m'url'\u001b[0m\u001b[0;34m:\u001b[0m \u001b[0m_url\u001b[0m\u001b[0;34m,\u001b[0m \u001b[0;34m'zenith'\u001b[0m\u001b[0;34m:\u001b[0m \u001b[0mimg\u001b[0m\u001b[0;34m.\u001b[0m\u001b[0mget\u001b[0m\u001b[0;34m(\u001b[0m\u001b[0;34m\"MEAN_SOLAR_ZENITH_ANGLE\"\u001b[0m\u001b[0;34m)\u001b[0m\u001b[0;34m.\u001b[0m\u001b[0mgetInfo\u001b[0m\u001b[0;34m(\u001b[0m\u001b[0;34m)\u001b[0m\u001b[0;34m}\u001b[0m\u001b[0;34m)\u001b[0m\u001b[0;34m\u001b[0m\u001b[0m\n\u001b[1;32m     75\u001b[0m     \u001b[0;31m#get the html to write to the output cell\u001b[0m\u001b[0;34m\u001b[0m\u001b[0;34m\u001b[0m\u001b[0m\n",
      "\u001b[0;32m/home/ubuntu/miniconda2/lib/python2.7/site-packages/ee/deprecation.pyc\u001b[0m in \u001b[0;36mWrapper\u001b[0;34m(*args, **kwargs)\u001b[0m\n\u001b[1;32m     30\u001b[0m           \u001b[0mfilename\u001b[0m\u001b[0;34m=\u001b[0m\u001b[0mfunc\u001b[0m\u001b[0;34m.\u001b[0m\u001b[0m__code__\u001b[0m\u001b[0;34m.\u001b[0m\u001b[0mco_filename\u001b[0m\u001b[0;34m,\u001b[0m\u001b[0;34m\u001b[0m\u001b[0m\n\u001b[1;32m     31\u001b[0m           lineno=func.__code__.co_firstlineno + 1)\n\u001b[0;32m---> 32\u001b[0;31m       \u001b[0;32mreturn\u001b[0m \u001b[0mfunc\u001b[0m\u001b[0;34m(\u001b[0m\u001b[0;34m*\u001b[0m\u001b[0margs\u001b[0m\u001b[0;34m,\u001b[0m \u001b[0;34m**\u001b[0m\u001b[0mkwargs\u001b[0m\u001b[0;34m)\u001b[0m\u001b[0;34m\u001b[0m\u001b[0m\n\u001b[0m\u001b[1;32m     33\u001b[0m     \u001b[0mdeprecation_message\u001b[0m \u001b[0;34m=\u001b[0m \u001b[0;34m'\\nDEPRECATED: '\u001b[0m \u001b[0;34m+\u001b[0m \u001b[0mmessage\u001b[0m\u001b[0;34m\u001b[0m\u001b[0m\n\u001b[1;32m     34\u001b[0m     \u001b[0;32mtry\u001b[0m\u001b[0;34m:\u001b[0m\u001b[0;34m\u001b[0m\u001b[0m\n",
      "\u001b[0;32m/home/ubuntu/miniconda2/lib/python2.7/site-packages/ee/image.pyc\u001b[0m in \u001b[0;36mgetThumbURL\u001b[0;34m(self, params)\u001b[0m\n\u001b[1;32m    410\u001b[0m         raise ee_exception.EEException(\n\u001b[1;32m    411\u001b[0m             'The region parameter must be an array or a GeoJSON object.')\n\u001b[0;32m--> 412\u001b[0;31m     \u001b[0;32mreturn\u001b[0m \u001b[0mdata\u001b[0m\u001b[0;34m.\u001b[0m\u001b[0mmakeThumbUrl\u001b[0m\u001b[0;34m(\u001b[0m\u001b[0mdata\u001b[0m\u001b[0;34m.\u001b[0m\u001b[0mgetThumbId\u001b[0m\u001b[0;34m(\u001b[0m\u001b[0mparams\u001b[0m\u001b[0;34m)\u001b[0m\u001b[0;34m)\u001b[0m\u001b[0;34m\u001b[0m\u001b[0m\n\u001b[0m\u001b[1;32m    413\u001b[0m \u001b[0;34m\u001b[0m\u001b[0m\n\u001b[1;32m    414\u001b[0m   \u001b[0;31m# Deprecated spellings to match the JS library.\u001b[0m\u001b[0;34m\u001b[0m\u001b[0;34m\u001b[0m\u001b[0m\n",
      "\u001b[0;32m/home/ubuntu/miniconda2/lib/python2.7/site-packages/ee/data.pyc\u001b[0m in \u001b[0;36mgetThumbId\u001b[0;34m(params)\u001b[0m\n\u001b[1;32m    730\u001b[0m   \u001b[0;32mif\u001b[0m \u001b[0;34m'size'\u001b[0m \u001b[0;32min\u001b[0m \u001b[0mrequest\u001b[0m \u001b[0;32mand\u001b[0m \u001b[0misinstance\u001b[0m\u001b[0;34m(\u001b[0m\u001b[0mrequest\u001b[0m\u001b[0;34m[\u001b[0m\u001b[0;34m'size'\u001b[0m\u001b[0;34m]\u001b[0m\u001b[0;34m,\u001b[0m \u001b[0;34m(\u001b[0m\u001b[0mlist\u001b[0m\u001b[0;34m,\u001b[0m \u001b[0mtuple\u001b[0m\u001b[0;34m)\u001b[0m\u001b[0;34m)\u001b[0m\u001b[0;34m:\u001b[0m\u001b[0;34m\u001b[0m\u001b[0m\n\u001b[1;32m    731\u001b[0m     \u001b[0mrequest\u001b[0m\u001b[0;34m[\u001b[0m\u001b[0;34m'size'\u001b[0m\u001b[0;34m]\u001b[0m \u001b[0;34m=\u001b[0m \u001b[0;34m'x'\u001b[0m\u001b[0;34m.\u001b[0m\u001b[0mjoin\u001b[0m\u001b[0;34m(\u001b[0m\u001b[0mmap\u001b[0m\u001b[0;34m(\u001b[0m\u001b[0mstr\u001b[0m\u001b[0;34m,\u001b[0m \u001b[0mrequest\u001b[0m\u001b[0;34m[\u001b[0m\u001b[0;34m'size'\u001b[0m\u001b[0;34m]\u001b[0m\u001b[0;34m)\u001b[0m\u001b[0;34m)\u001b[0m\u001b[0;34m\u001b[0m\u001b[0m\n\u001b[0;32m--> 732\u001b[0;31m   \u001b[0;32mreturn\u001b[0m \u001b[0msend_\u001b[0m\u001b[0;34m(\u001b[0m\u001b[0;34m'/thumb'\u001b[0m\u001b[0;34m,\u001b[0m \u001b[0mrequest\u001b[0m\u001b[0;34m)\u001b[0m\u001b[0;34m\u001b[0m\u001b[0m\n\u001b[0m\u001b[1;32m    733\u001b[0m \u001b[0;34m\u001b[0m\u001b[0m\n\u001b[1;32m    734\u001b[0m \u001b[0;34m\u001b[0m\u001b[0m\n",
      "\u001b[0;32m/home/ubuntu/miniconda2/lib/python2.7/site-packages/ee/data.pyc\u001b[0m in \u001b[0;36msend_\u001b[0;34m(path, params, opt_method, opt_raw)\u001b[0m\n\u001b[1;32m   1691\u001b[0m       \u001b[0;32mraise\u001b[0m \u001b[0mee_exception\u001b[0m\u001b[0;34m.\u001b[0m\u001b[0mEEException\u001b[0m\u001b[0;34m(\u001b[0m\u001b[0;34m'Invalid JSON: %s'\u001b[0m \u001b[0;34m%\u001b[0m \u001b[0mcontent\u001b[0m\u001b[0;34m)\u001b[0m\u001b[0;34m\u001b[0m\u001b[0m\n\u001b[1;32m   1692\u001b[0m     \u001b[0;32mif\u001b[0m \u001b[0;34m'error'\u001b[0m \u001b[0;32min\u001b[0m \u001b[0mjson_content\u001b[0m\u001b[0;34m:\u001b[0m\u001b[0;34m\u001b[0m\u001b[0m\n\u001b[0;32m-> 1693\u001b[0;31m       \u001b[0;32mraise\u001b[0m \u001b[0mee_exception\u001b[0m\u001b[0;34m.\u001b[0m\u001b[0mEEException\u001b[0m\u001b[0;34m(\u001b[0m\u001b[0mjson_content\u001b[0m\u001b[0;34m[\u001b[0m\u001b[0;34m'error'\u001b[0m\u001b[0;34m]\u001b[0m\u001b[0;34m[\u001b[0m\u001b[0;34m'message'\u001b[0m\u001b[0;34m]\u001b[0m\u001b[0;34m)\u001b[0m\u001b[0;34m\u001b[0m\u001b[0m\n\u001b[0m\u001b[1;32m   1694\u001b[0m     \u001b[0;32mif\u001b[0m \u001b[0;34m'data'\u001b[0m \u001b[0;32mnot\u001b[0m \u001b[0;32min\u001b[0m \u001b[0mcontent\u001b[0m\u001b[0;34m:\u001b[0m\u001b[0;34m\u001b[0m\u001b[0m\n\u001b[1;32m   1695\u001b[0m       \u001b[0;32mraise\u001b[0m \u001b[0mee_exception\u001b[0m\u001b[0;34m.\u001b[0m\u001b[0mEEException\u001b[0m\u001b[0;34m(\u001b[0m\u001b[0;34m'Malformed response: '\u001b[0m \u001b[0;34m+\u001b[0m \u001b[0mstr\u001b[0m\u001b[0;34m(\u001b[0m\u001b[0mcontent\u001b[0m\u001b[0;34m)\u001b[0m\u001b[0;34m)\u001b[0m\u001b[0;34m\u001b[0m\u001b[0m\n",
      "\u001b[0;31mEEException\u001b[0m: Image.visualize: No band named 'saturation'. Available band names: [B1, B2, B3, B4, B5, B6, B7, B8, B8A, B9, B10, B11, B12, QA10, QA20, QA60]."
     ]
    }
   ],
   "source": [
    "showImages(AREA_CHALK_SOUND, [\"Jan\",\"Aug\"], \"saturation\", 600)"
   ]
  },
  {
   "cell_type": "code",
   "execution_count": null,
   "metadata": {},
   "outputs": [],
   "source": [
    "showImages(AREA_CHALK_SOUND, [\"Jan\",\"Aug\"], \"value\", 600)"
   ]
  },
  {
   "cell_type": "markdown",
   "metadata": {},
   "source": [
    "<a name=\"clouds\"><h3>Clouds</h3></a>"
   ]
  },
  {
   "cell_type": "markdown",
   "metadata": {},
   "source": [
    "<a name='vapor'><h4>Water vapor (B9)</h4></a>"
   ]
  },
  {
   "cell_type": "markdown",
   "metadata": {},
   "source": [
    "The Water Vapor band is supposed to show water vapor but it looks like it shows other things."
   ]
  },
  {
   "cell_type": "code",
   "execution_count": 10,
   "metadata": {},
   "outputs": [
    {
     "data": {
      "text/html": [
       "<table><tr><td><img src='https://earthengine.googleapis.com/api/thumb?thumbid=c0245b8c3e5e71641fe6e0dd73d0895b&token=1ac22556dcf5c9d48b8dd759e44a3939'></td><td><img src='https://earthengine.googleapis.com/api/thumb?thumbid=2e05b70f36c254d582412269ec041f0e&token=f231db14bedaad7f5fb54e8cb976fca6'></td></tr></table>"
      ],
      "text/plain": [
       "<IPython.core.display.HTML object>"
      ]
     },
     "metadata": {},
     "output_type": "display_data"
    }
   ],
   "source": [
    "image = ee.Image(\"COPERNICUS/S2/20160817T152642_20160817T202520_T19QBE\")\n",
    "url = getThumbUrl(image, BIG_POND, \"B4,B3,B2\",500)\n",
    "url2 = getThumbUrl(image, BIG_POND, \"B9\", 500, 0, 800)\n",
    "html= \"<table><tr><td><img src='\" + url + \"'></td><td><img src='\" + url2 + \"'></td></tr></table>\"\n",
    "display(HTML(html)) "
   ]
  },
  {
   "cell_type": "markdown",
   "metadata": {},
   "source": [
    "<a name='cirrus'><h4>Cirrus band (B10)</h4></a>\n"
   ]
  },
  {
   "cell_type": "markdown",
   "metadata": {},
   "source": [
    "The Cirrus band looks really good - here is the data for the above scene. Not sure what the line is going down the image!"
   ]
  },
  {
   "cell_type": "code",
   "execution_count": 11,
   "metadata": {},
   "outputs": [
    {
     "data": {
      "text/html": [
       "<table><tr><td><img src='https://earthengine.googleapis.com/api/thumb?thumbid=c0245b8c3e5e71641fe6e0dd73d0895b&token=b310f72842b8ed24196f154558389611'></td><td><img src='https://earthengine.googleapis.com/api/thumb?thumbid=c8433de51c3b21de9d38f49e946f7dbf&token=81772c20d4decc34ad12d8377ddfb551'></td></tr></table>"
      ],
      "text/plain": [
       "<IPython.core.display.HTML object>"
      ]
     },
     "metadata": {},
     "output_type": "display_data"
    }
   ],
   "source": [
    "image = ee.Image(\"COPERNICUS/S2/20160817T152642_20160817T202520_T19QBE\")\n",
    "url = getThumbUrl(image, BIG_POND, \"B4,B3,B2\",500)\n",
    "url2 = getThumbUrl(image, BIG_POND, \"B10\", 500, 0, 300)\n",
    "html= \"<table><tr><td><img src='\" + url + \"'></td><td><img src='\" + url2 + \"'></td></tr></table>\"\n",
    "display(HTML(html)) "
   ]
  },
  {
   "cell_type": "markdown",
   "metadata": {},
   "source": [
    "<a name='qa60'><h4>QA band (QA60)</h4></a>"
   ]
  },
  {
   "cell_type": "markdown",
   "metadata": {},
   "source": [
    "The QA60 band holds information on cumulus and cirrus clouds and this information is held in bits 10 (cumulus) and 11 (cirrus). A full description of the cloud mask is given <a href='https://earth.esa.int/web/sentinel/technical-guides/sentinel-2-msi/level-1c/cloud-masks'>here</a>. The following example shows detection of the cumulus (dark grey) and cirrus (light grey) in a single S2 image. As you can see the cloud detection is not complete.<br/>"
   ]
  },
  {
   "cell_type": "code",
   "execution_count": 12,
   "metadata": {},
   "outputs": [
    {
     "data": {
      "text/html": [
       "<table><tr><td><img src='https://earthengine.googleapis.com/api/thumb?thumbid=c0245b8c3e5e71641fe6e0dd73d0895b&token=557c181ef9cfc7aa9688781800c77da8'></td><td><img src='https://earthengine.googleapis.com/api/thumb?thumbid=05967dcf3ef1f47e7b5a61684a1dc3c2&token=d5366f326474cc498a926ffb73d66f9a'></td></tr></table>"
      ],
      "text/plain": [
       "<IPython.core.display.HTML object>"
      ]
     },
     "metadata": {},
     "output_type": "display_data"
    }
   ],
   "source": [
    "image = ee.Image(\"COPERNICUS/S2/20160817T152642_20160817T202520_T19QBE\")\n",
    "url = getThumbUrl(image, BIG_POND, \"B4,B3,B2\",500)\n",
    "url2 = getThumbUrl(getCloudsQA60(image), BIG_POND, \"QA60\", 500, 0, 4)\n",
    "html= \"<table><tr><td><img src='\" + url + \"'></td><td><img src='\" + url2 + \"'></td></tr></table>\"\n",
    "display(HTML(html)) "
   ]
  },
  {
   "cell_type": "markdown",
   "metadata": {},
   "source": [
    "<a name='shadow'><h3>Cloud shadow</h3></a>"
   ]
  },
  {
   "cell_type": "markdown",
   "metadata": {},
   "source": [
    "<a name=\"habitats\"><h3>Habitat types</h3></a>"
   ]
  },
  {
   "cell_type": "markdown",
   "metadata": {},
   "source": [
    "<a name=\"condition\"><h3>Habitat condition</h3></a>"
   ]
  },
  {
   "cell_type": "markdown",
   "metadata": {},
   "source": [
    "<a name=\"turbidity\"><h3>Turbidity</h3></a>"
   ]
  },
  {
   "cell_type": "markdown",
   "metadata": {},
   "source": [
    "<a name=\"classification\"><h2>Habitat Classification</h2></a>"
   ]
  },
  {
   "cell_type": "markdown",
   "metadata": {},
   "source": [
    "<a name=\"unsupervised\"><h3>Unsupervised</h3></a>"
   ]
  },
  {
   "cell_type": "markdown",
   "metadata": {},
   "source": [
    "The following image shows an unsupervised classification using the Weka K-means clustering algorithm with 15 classes. The bands that are being used in the unsupervised classification are red, green, blue, vegetation red edge, nir, narrow nir and swir 1 and 2"
   ]
  },
  {
   "cell_type": "code",
   "execution_count": null,
   "metadata": {},
   "outputs": [],
   "source": [
    "unsupervisedClassification(BOTTLE_CREEK, 15, 500)"
   ]
  },
  {
   "cell_type": "markdown",
   "metadata": {},
   "source": [
    "<a name=\"supervised\"><h3>Supervised</h3></a>"
   ]
  }
 ],
 "metadata": {
  "kernelspec": {
   "display_name": "Python 2",
   "language": "python",
   "name": "python2"
  },
  "language_info": {
   "codemirror_mode": {
    "name": "ipython",
    "version": 2
   },
   "file_extension": ".py",
   "mimetype": "text/x-python",
   "name": "python",
   "nbconvert_exporter": "python",
   "pygments_lexer": "ipython2",
   "version": "2.7.16"
  }
 },
 "nbformat": 4,
 "nbformat_minor": 2
}
